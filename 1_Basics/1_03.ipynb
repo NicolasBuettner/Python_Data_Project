{
 "cells": [
  {
   "cell_type": "markdown",
   "metadata": {
    "id": "-Zoz3AiJI2JI"
   },
   "source": [
    "# 1_3_1\n",
    "Check the data type of the variable job_title which is set to 'Data Scientist' (Note: 'Data Scientist' is in quotes)."
   ]
  },
  {
   "cell_type": "code",
   "execution_count": 1,
   "metadata": {
    "colab": {
     "base_uri": "https://localhost:8080/"
    },
    "executionInfo": {
     "elapsed": 24,
     "status": "ok",
     "timestamp": 1755603915016,
     "user": {
      "displayName": "Nicolas Büttner",
      "userId": "04511731173288379148"
     },
     "user_tz": -120
    },
    "id": "FaAZj58YJMYi",
    "outputId": "520864e0-00fa-47f5-8354-d1f43fb78da2"
   },
   "outputs": [
    {
     "name": "stdout",
     "output_type": "stream",
     "text": [
      "<class 'str'>\n"
     ]
    }
   ],
   "source": [
    "job_title = 'Data Scientist'\n",
    "print(type(job_title))"
   ]
  },
  {
   "cell_type": "markdown",
   "metadata": {
    "id": "m_1gv9tbJnQB"
   },
   "source": [
    "# 1_3_2\n",
    "Create a variable *salary* with the value *85000.50* and check its data type.\n"
   ]
  },
  {
   "cell_type": "code",
   "execution_count": 2,
   "metadata": {
    "colab": {
     "base_uri": "https://localhost:8080/"
    },
    "executionInfo": {
     "elapsed": 51,
     "status": "ok",
     "timestamp": 1755604026107,
     "user": {
      "displayName": "Nicolas Büttner",
      "userId": "04511731173288379148"
     },
     "user_tz": -120
    },
    "id": "q-X0rDiyJzT0",
    "outputId": "69f1e7c0-643d-4956-b584-3f447d1a6440"
   },
   "outputs": [
    {
     "name": "stdout",
     "output_type": "stream",
     "text": [
      "<class 'float'>\n"
     ]
    }
   ],
   "source": [
    "salary = 85000.50\n",
    "print(type(salary))"
   ]
  },
  {
   "cell_type": "markdown",
   "metadata": {
    "id": "zwdMNILDKgGx"
   },
   "source": [
    "# 1_3_3\n",
    "Convert the float of 120000.75, assigned to the variable salary_rate, to an integer; Print its type after conversion to verify it is an integer.\n"
   ]
  },
  {
   "cell_type": "code",
   "execution_count": 3,
   "metadata": {
    "colab": {
     "base_uri": "https://localhost:8080/"
    },
    "executionInfo": {
     "elapsed": 55,
     "status": "ok",
     "timestamp": 1755604290685,
     "user": {
      "displayName": "Nicolas Büttner",
      "userId": "04511731173288379148"
     },
     "user_tz": -120
    },
    "id": "srqYZDObKo3U",
    "outputId": "ac4d45c9-1ada-43ff-c381-53b21789e5b3"
   },
   "outputs": [
    {
     "name": "stdout",
     "output_type": "stream",
     "text": [
      "<class 'int'>\n"
     ]
    }
   ],
   "source": [
    "salary_rate = 120000.75\n",
    "salary_rate = int(salary_rate)\n",
    "print(type(salary_rate))"
   ]
  },
  {
   "cell_type": "markdown",
   "metadata": {
    "id": "bnSzCAxzLLGH"
   },
   "source": [
    "# 1_3_4\n",
    "Check if the variable company_name is of the type str. company_name is set to 'DataWiz Inc.'.\n"
   ]
  },
  {
   "cell_type": "code",
   "execution_count": 4,
   "metadata": {
    "colab": {
     "base_uri": "https://localhost:8080/"
    },
    "executionInfo": {
     "elapsed": 19,
     "status": "ok",
     "timestamp": 1755604608798,
     "user": {
      "displayName": "Nicolas Büttner",
      "userId": "04511731173288379148"
     },
     "user_tz": -120
    },
    "id": "eoIL7D10LSdS",
    "outputId": "f2032e33-d65e-4049-f352-21ee6143bc1a"
   },
   "outputs": [
    {
     "name": "stdout",
     "output_type": "stream",
     "text": [
      "True\n"
     ]
    }
   ],
   "source": [
    "company_name = 'DataWiz Inc.'\n",
    "print(isinstance(company_name, str))"
   ]
  }
 ],
 "metadata": {
  "colab": {
   "authorship_tag": "ABX9TyM1p+QpE4WBVla+WfNI7FpZ",
   "provenance": []
  },
  "kernelspec": {
   "display_name": "python_course",
   "language": "python",
   "name": "python3"
  },
  "language_info": {
   "codemirror_mode": {
    "name": "ipython",
    "version": 3
   },
   "file_extension": ".py",
   "mimetype": "text/x-python",
   "name": "python",
   "nbconvert_exporter": "python",
   "pygments_lexer": "ipython3",
   "version": "3.13.5"
  }
 },
 "nbformat": 4,
 "nbformat_minor": 0
}
