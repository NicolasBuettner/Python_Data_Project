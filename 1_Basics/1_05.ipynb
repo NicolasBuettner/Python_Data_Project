{
 "cells": [
  {
   "cell_type": "markdown",
   "metadata": {
    "id": "9tJKUzcriqok"
   },
   "source": [
    "# 1_5_1\n",
    "Concatenate the string 'Job Title: ' with the variable job_title which is set to 'Data Scientist'.\n"
   ]
  },
  {
   "cell_type": "code",
   "execution_count": 1,
   "metadata": {
    "colab": {
     "base_uri": "https://localhost:8080/"
    },
    "executionInfo": {
     "elapsed": 13,
     "status": "ok",
     "timestamp": 1755610617263,
     "user": {
      "displayName": "Nicolas Büttner",
      "userId": "04511731173288379148"
     },
     "user_tz": -120
    },
    "id": "8mLPOE2iix7B",
    "outputId": "023274ec-3d02-4740-ea95-fdce9d902fd0"
   },
   "outputs": [
    {
     "name": "stdout",
     "output_type": "stream",
     "text": [
      "Job Title: Data Scientist\n"
     ]
    }
   ],
   "source": [
    "job_title = 'Data Scientist'\n",
    "result = 'Job Title: ' + job_title\n",
    "print(result)"
   ]
  },
  {
   "cell_type": "markdown",
   "metadata": {
    "id": "jVFpTPeJjKHY"
   },
   "source": []
  },
  {
   "cell_type": "markdown",
   "metadata": {
    "id": "fOaYGxj1jQeM"
   },
   "source": [
    "# 1_5_2\n",
    "Format a string to include the variables position and company using f-strings. The variables are set to 'Data Scientist' and 'DataWiz Inc.' respectively. The final string should state: 'Data Scientist at DataWiz'."
   ]
  },
  {
   "cell_type": "code",
   "execution_count": 2,
   "metadata": {
    "colab": {
     "base_uri": "https://localhost:8080/"
    },
    "executionInfo": {
     "elapsed": 15,
     "status": "ok",
     "timestamp": 1755610807499,
     "user": {
      "displayName": "Nicolas Büttner",
      "userId": "04511731173288379148"
     },
     "user_tz": -120
    },
    "id": "510FczPJinho",
    "outputId": "9e550b66-d2d4-47d4-eba5-3fd1355f1b65"
   },
   "outputs": [
    {
     "name": "stdout",
     "output_type": "stream",
     "text": [
      "Data Scientist at DataWiz Inc.\n"
     ]
    }
   ],
   "source": [
    "position = 'Data Scientist'\n",
    "company = 'DataWiz Inc.'\n",
    "result = f'{position} at {company}'\n",
    "print(result)"
   ]
  },
  {
   "cell_type": "markdown",
   "metadata": {
    "id": "xzCRspQFj1aH"
   },
   "source": [
    "# 1_5_3\n",
    "Use the str.format() method to format the string to include the variables role and skill. The variables are set to 'Data Analyst' and 'Python' respectively. The final string should state: 'Role: Data Analyst, Skill: Python'"
   ]
  },
  {
   "cell_type": "code",
   "execution_count": 3,
   "metadata": {
    "colab": {
     "base_uri": "https://localhost:8080/"
    },
    "executionInfo": {
     "elapsed": 17,
     "status": "ok",
     "timestamp": 1755610984229,
     "user": {
      "displayName": "Nicolas Büttner",
      "userId": "04511731173288379148"
     },
     "user_tz": -120
    },
    "id": "N3BFZ13Fjmtx",
    "outputId": "d11a7b22-4391-420b-891d-83082e18496d"
   },
   "outputs": [
    {
     "name": "stdout",
     "output_type": "stream",
     "text": [
      "Role: Data Analyst, Skill: Python\n"
     ]
    }
   ],
   "source": [
    "role = 'Data Analyst'\n",
    "skill = 'Python'\n",
    "result = 'Role: {}, Skill: {}'.format(role, skill)\n",
    "print(result)"
   ]
  },
  {
   "cell_type": "markdown",
   "metadata": {
    "id": "NaU-pvwwkq74"
   },
   "source": [
    "# 1_5_4\n",
    "Use %-formatting to format the string to include the variables role and skill. The variables are set to 'Data Engineer' and 'SQL' respectively. The final string should state: 'Role: Data Engineer, Skill: SQL'"
   ]
  },
  {
   "cell_type": "code",
   "execution_count": 4,
   "metadata": {
    "colab": {
     "base_uri": "https://localhost:8080/"
    },
    "executionInfo": {
     "elapsed": 14,
     "status": "ok",
     "timestamp": 1755611171534,
     "user": {
      "displayName": "Nicolas Büttner",
      "userId": "04511731173288379148"
     },
     "user_tz": -120
    },
    "id": "mKKQ9c2skXtp",
    "outputId": "118f3f25-634c-4e3c-e5a3-53b05d82727b"
   },
   "outputs": [
    {
     "name": "stdout",
     "output_type": "stream",
     "text": [
      "Role: Data Engineer, Skill: SQL\n"
     ]
    }
   ],
   "source": [
    "role = 'Data Engineer'\n",
    "skill = 'SQL'\n",
    "result = 'Role: %s, Skill: %s' % (role, skill)\n",
    "print(result)"
   ]
  }
 ],
 "metadata": {
  "colab": {
   "authorship_tag": "ABX9TyNZE6r95VCKCNjd8XTgfzom",
   "provenance": []
  },
  "kernelspec": {
   "display_name": "python_course",
   "language": "python",
   "name": "python3"
  },
  "language_info": {
   "codemirror_mode": {
    "name": "ipython",
    "version": 3
   },
   "file_extension": ".py",
   "mimetype": "text/x-python",
   "name": "python",
   "nbconvert_exporter": "python",
   "pygments_lexer": "ipython3",
   "version": "3.13.5"
  }
 },
 "nbformat": 4,
 "nbformat_minor": 0
}
