{
 "cells": [
  {
   "cell_type": "markdown",
   "metadata": {
    "id": "eboK6QX7yd-k"
   },
   "source": [
    "# 1_22_1\n",
    "Create a NumPy array representing the number of job applications received each day for a week (7 days). The array should be called applications and contain the following numbers: [10, 15, 7, 20, 25, 30, 5]. Print the array."
   ]
  },
  {
   "cell_type": "code",
   "execution_count": 1,
   "metadata": {
    "colab": {
     "base_uri": "https://localhost:8080/"
    },
    "executionInfo": {
     "elapsed": 30,
     "status": "ok",
     "timestamp": 1756487201443,
     "user": {
      "displayName": "Nicolas Büttner",
      "userId": "04511731173288379148"
     },
     "user_tz": -120
    },
    "id": "D6Omo-e6ybGe",
    "outputId": "74e69948-e5b4-4003-c8e1-45ac2d1c70f8"
   },
   "outputs": [
    {
     "name": "stdout",
     "output_type": "stream",
     "text": [
      "[10 15  7 20 25 30  5]\n"
     ]
    }
   ],
   "source": [
    "import numpy as np\n",
    "\n",
    "applications_list = [10, 15, 7, 20, 25, 30, 5]\n",
    "applications = np.array(applications_list)\n",
    "print(applications)"
   ]
  },
  {
   "cell_type": "markdown",
   "metadata": {
    "id": "UN6z8APqzIZP"
   },
   "source": [
    "# 1_22_2\n",
    "Create a NumPy array representing the number of job postings for different job titles called postings. The array contains [10, 15, 7, 20, 25, 30, 5]. Use slicing to get the number of postings for the first three job titles."
   ]
  },
  {
   "cell_type": "code",
   "execution_count": 2,
   "metadata": {
    "colab": {
     "base_uri": "https://localhost:8080/"
    },
    "executionInfo": {
     "elapsed": 19,
     "status": "ok",
     "timestamp": 1756487513691,
     "user": {
      "displayName": "Nicolas Büttner",
      "userId": "04511731173288379148"
     },
     "user_tz": -120
    },
    "id": "eYoga55jyxYb",
    "outputId": "09848d03-d542-4cdd-8702-84393b0c931b"
   },
   "outputs": [
    {
     "name": "stdout",
     "output_type": "stream",
     "text": [
      "[10 15  7]\n"
     ]
    }
   ],
   "source": [
    "import numpy as np\n",
    "\n",
    "postings_list = [10, 15, 7, 20, 25, 30, 5]\n",
    "postings = np.array(postings_list)\n",
    "first_three_postings = postings[:3]\n",
    "print(first_three_postings)"
   ]
  },
  {
   "cell_type": "markdown",
   "metadata": {
    "id": "X1BB1Pf60q1Q"
   },
   "source": [
    "# 1_22_3\n",
    "Create a NumPy array representing the salaries called salaries offered for five different job positions. Calculate the highest and lowest salary using NumPy functions. The array salaries contains [70000, 85000, 60000, 95000, 80000]."
   ]
  },
  {
   "cell_type": "code",
   "execution_count": 3,
   "metadata": {
    "colab": {
     "base_uri": "https://localhost:8080/"
    },
    "executionInfo": {
     "elapsed": 12,
     "status": "ok",
     "timestamp": 1756487975153,
     "user": {
      "displayName": "Nicolas Büttner",
      "userId": "04511731173288379148"
     },
     "user_tz": -120
    },
    "id": "RaSdYVEgzhsr",
    "outputId": "985e8e40-7e53-4eb8-c3a8-8ce1d07d5345"
   },
   "outputs": [
    {
     "name": "stdout",
     "output_type": "stream",
     "text": [
      "95000 60000\n"
     ]
    }
   ],
   "source": [
    "import numpy as np\n",
    "\n",
    "salaries_list = [70000, 85000, 60000, 95000, 80000]\n",
    "salaries = np.array(salaries_list)\n",
    "highest_salary = np.max(salaries)\n",
    "lowest_salary = np.min(salaries)\n",
    "print(highest_salary, lowest_salary)"
   ]
  }
 ],
 "metadata": {
  "colab": {
   "authorship_tag": "ABX9TyO0dSDFfv2WXiG136lN7Dwc",
   "provenance": []
  },
  "kernelspec": {
   "display_name": "python_course",
   "language": "python",
   "name": "python3"
  },
  "language_info": {
   "codemirror_mode": {
    "name": "ipython",
    "version": 3
   },
   "file_extension": ".py",
   "mimetype": "text/x-python",
   "name": "python",
   "nbconvert_exporter": "python",
   "pygments_lexer": "ipython3",
   "version": "3.13.5"
  }
 },
 "nbformat": 4,
 "nbformat_minor": 0
}
