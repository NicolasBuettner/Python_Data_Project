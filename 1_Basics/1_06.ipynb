{
 "cells": [
  {
   "cell_type": "code",
   "execution_count": 1,
   "metadata": {
    "colab": {
     "base_uri": "https://localhost:8080/"
    },
    "executionInfo": {
     "elapsed": 11,
     "status": "ok",
     "timestamp": 1755616710227,
     "user": {
      "displayName": "Nicolas Büttner",
      "userId": "04511731173288379148"
     },
     "user_tz": -120
    },
    "id": "wDlzW1V853kv",
    "outputId": "20887203-32b4-4263-ed04-16ec3ab7006d"
   },
   "outputs": [
    {
     "name": "stdout",
     "output_type": "stream",
     "text": [
      "96000\n"
     ]
    }
   ],
   "source": [
    "monthly_salary = 8000\n",
    "annual_salary = monthly_salary * 12\n",
    "print(annual_salary)"
   ]
  },
  {
   "cell_type": "markdown",
   "metadata": {
    "id": "tEs27rLv6hcM"
   },
   "source": [
    "# 1_6_2\n",
    "Determine if the average salary of a data analyst is greater than that of a data scientist. The variables avg_salary_analyst and avg_salary_scientist are set to 70000 and 85000 respectively.\n"
   ]
  },
  {
   "cell_type": "code",
   "execution_count": 2,
   "metadata": {
    "colab": {
     "base_uri": "https://localhost:8080/"
    },
    "executionInfo": {
     "elapsed": 11,
     "status": "ok",
     "timestamp": 1755616858804,
     "user": {
      "displayName": "Nicolas Büttner",
      "userId": "04511731173288379148"
     },
     "user_tz": -120
    },
    "id": "GhJIfaZc6KsM",
    "outputId": "67896c28-3b44-4600-ead0-0ec1c9a73a48"
   },
   "outputs": [
    {
     "name": "stdout",
     "output_type": "stream",
     "text": [
      "False\n"
     ]
    }
   ],
   "source": [
    "avg_salary_analyst = 70000\n",
    "avg_salary_scientist = 85000\n",
    "is_analyst_salary_higher = avg_salary_analyst > avg_salary_scientist\n",
    "print(is_analyst_salary_higher)"
   ]
  },
  {
   "cell_type": "markdown",
   "metadata": {
    "id": "zVNJr8v269HC"
   },
   "source": [
    "# 1_6_3\n",
    "Calculate the remainder when the total number of job applications (variable total_applications is set to 123) is divided by the number of job openings (variable job_openings is set to 67)."
   ]
  },
  {
   "cell_type": "code",
   "execution_count": 3,
   "metadata": {
    "colab": {
     "base_uri": "https://localhost:8080/"
    },
    "executionInfo": {
     "elapsed": 21,
     "status": "ok",
     "timestamp": 1755616954596,
     "user": {
      "displayName": "Nicolas Büttner",
      "userId": "04511731173288379148"
     },
     "user_tz": -120
    },
    "id": "TdABZoq86uK8",
    "outputId": "7ceee8a7-493d-4b39-a514-ce9e3e83d82c"
   },
   "outputs": [
    {
     "name": "stdout",
     "output_type": "stream",
     "text": [
      "56\n"
     ]
    }
   ],
   "source": [
    "total_applications = 123\n",
    "job_openings = 67\n",
    "remainder = total_applications % job_openings\n",
    "print(remainder)"
   ]
  },
  {
   "cell_type": "markdown",
   "metadata": {
    "id": "0mFgP_9p7d4B"
   },
   "source": [
    "# 1_6_4\n",
    "Increment (or increase) the variable job_postings by 5. The variable job_postings is intially set to 20."
   ]
  },
  {
   "cell_type": "code",
   "execution_count": 4,
   "metadata": {
    "colab": {
     "base_uri": "https://localhost:8080/"
    },
    "executionInfo": {
     "elapsed": 16,
     "status": "ok",
     "timestamp": 1755617076025,
     "user": {
      "displayName": "Nicolas Büttner",
      "userId": "04511731173288379148"
     },
     "user_tz": -120
    },
    "id": "zM5BHoet7Mfm",
    "outputId": "b8b604b4-5b7e-4ab5-9582-058e082a7626"
   },
   "outputs": [
    {
     "name": "stdout",
     "output_type": "stream",
     "text": [
      "25\n"
     ]
    }
   ],
   "source": [
    "job_postings = 20\n",
    "job_postings += 5\n",
    "print(job_postings)"
   ]
  },
  {
   "cell_type": "markdown",
   "metadata": {
    "id": "G5xOcVaa72UX"
   },
   "source": [
    "# 1_6_5\n",
    "Calculate the average salary from the minimum and maximum salaries. The variables min_salary and max_salary are set to 50000 and 120000 respectively."
   ]
  },
  {
   "cell_type": "code",
   "execution_count": 5,
   "metadata": {
    "colab": {
     "base_uri": "https://localhost:8080/"
    },
    "executionInfo": {
     "elapsed": 18,
     "status": "ok",
     "timestamp": 1755617208156,
     "user": {
      "displayName": "Nicolas Büttner",
      "userId": "04511731173288379148"
     },
     "user_tz": -120
    },
    "id": "rl5d0LmI7qI9",
    "outputId": "c0b1f8a6-294f-4f1e-b843-58f48e65bb30"
   },
   "outputs": [
    {
     "name": "stdout",
     "output_type": "stream",
     "text": [
      "85000.0\n"
     ]
    }
   ],
   "source": [
    "min_salary = 50000\n",
    "max_salary = 120000\n",
    "average_salary  = (min_salary + max_salary) / 2\n",
    "print(average_salary )"
   ]
  }
 ],
 "metadata": {
  "colab": {
   "authorship_tag": "ABX9TyNqRxZtCoHmqpEoGDc6+cLx",
   "provenance": []
  },
  "kernelspec": {
   "display_name": "python_course",
   "language": "python",
   "name": "python3"
  },
  "language_info": {
   "codemirror_mode": {
    "name": "ipython",
    "version": 3
   },
   "file_extension": ".py",
   "mimetype": "text/x-python",
   "name": "python",
   "nbconvert_exporter": "python",
   "pygments_lexer": "ipython3",
   "version": "3.13.5"
  }
 },
 "nbformat": 4,
 "nbformat_minor": 0
}
