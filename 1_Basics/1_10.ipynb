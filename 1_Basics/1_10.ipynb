{
 "cells": [
  {
   "cell_type": "markdown",
   "metadata": {
    "id": "0TSm7HngF6Rq"
   },
   "source": [
    "# 1_10_1\n",
    "Add a new job title 'AI Specialist' to the set of unique job titles and print the updated set. The initial set of unique_job_titles is {'Data Scientist', 'Data Analyst', 'Machine Learning Engineer'}."
   ]
  },
  {
   "cell_type": "code",
   "execution_count": 1,
   "metadata": {
    "colab": {
     "base_uri": "https://localhost:8080/"
    },
    "executionInfo": {
     "elapsed": 8,
     "status": "ok",
     "timestamp": 1755770905947,
     "user": {
      "displayName": "Nicolas Büttner",
      "userId": "04511731173288379148"
     },
     "user_tz": -120
    },
    "id": "0jGVnLR4F4S7",
    "outputId": "a9db1d2a-4360-43ff-8bf2-a89fc67d9a04"
   },
   "outputs": [
    {
     "name": "stdout",
     "output_type": "stream",
     "text": [
      "{'Data Scientist', 'Data Analyst', 'AI Specialist', 'Machine Learning Engineer'}\n"
     ]
    }
   ],
   "source": [
    "unique_job_titles = {'Data Scientist', 'Data Analyst', 'Machine Learning Engineer'}\n",
    "unique_job_titles.add('AI Specialist')\n",
    "print(unique_job_titles)"
   ]
  },
  {
   "cell_type": "markdown",
   "metadata": {
    "id": "sGnTbaFJGiRL"
   },
   "source": [
    "# 1_10_2\n",
    "Remove the job title 'Data Analyst' from the set of unique job titles and print the updated set. The initial set of unique_job_titles is {'Data Scientist', 'Data Analyst', 'Machine Learning Engineer'}."
   ]
  },
  {
   "cell_type": "code",
   "execution_count": 2,
   "metadata": {
    "colab": {
     "base_uri": "https://localhost:8080/"
    },
    "executionInfo": {
     "elapsed": 12,
     "status": "ok",
     "timestamp": 1755770961717,
     "user": {
      "displayName": "Nicolas Büttner",
      "userId": "04511731173288379148"
     },
     "user_tz": -120
    },
    "id": "RLD0OF81GCyw",
    "outputId": "98b2586f-c0c7-4295-ae25-e8941ab7cb70"
   },
   "outputs": [
    {
     "name": "stdout",
     "output_type": "stream",
     "text": [
      "{'Data Scientist', 'Machine Learning Engineer'}\n"
     ]
    }
   ],
   "source": [
    "unique_job_titles = {'Data Scientist', 'Data Analyst', 'Machine Learning Engineer'}\n",
    "unique_job_titles.remove('Data Analyst')\n",
    "print(unique_job_titles)"
   ]
  },
  {
   "cell_type": "markdown",
   "metadata": {
    "id": "2SwC8HBeGy7T"
   },
   "source": [
    "# 1_10_3\n",
    "Create a set of job locations named job_locations from a list of job locations for data science roles and print the set. The list is ['New York', 'San Francisco', 'New York', 'Austin', 'San Francisco']."
   ]
  },
  {
   "cell_type": "code",
   "execution_count": 3,
   "metadata": {
    "colab": {
     "base_uri": "https://localhost:8080/"
    },
    "executionInfo": {
     "elapsed": 7,
     "status": "ok",
     "timestamp": 1755771072575,
     "user": {
      "displayName": "Nicolas Büttner",
      "userId": "04511731173288379148"
     },
     "user_tz": -120
    },
    "id": "UT63jNCcGr56",
    "outputId": "f0d5b8db-10c2-4b3d-f432-61b3a39374ab"
   },
   "outputs": [
    {
     "name": "stdout",
     "output_type": "stream",
     "text": [
      "{'San Francisco', 'New York', 'Austin'}\n"
     ]
    }
   ],
   "source": [
    "job_locations = ['New York', 'San Francisco', 'New York', 'Austin', 'San Francisco']\n",
    "unique_job_locations = set(job_locations)\n",
    "print(unique_job_locations)"
   ]
  },
  {
   "cell_type": "markdown",
   "metadata": {
    "id": "yWV1bWsMIiqc"
   },
   "source": [
    "# 1_10_4\n",
    "Find the union of two sets of job skills and print the result. The first set is {'Python', 'SQL', 'Tableau'} and the second set is {'R', 'SQL', 'Machine Learning'}."
   ]
  },
  {
   "cell_type": "code",
   "execution_count": 4,
   "metadata": {
    "colab": {
     "base_uri": "https://localhost:8080/"
    },
    "executionInfo": {
     "elapsed": 4,
     "status": "ok",
     "timestamp": 1755771633018,
     "user": {
      "displayName": "Nicolas Büttner",
      "userId": "04511731173288379148"
     },
     "user_tz": -120
    },
    "id": "Tyz59SGVIoD4",
    "outputId": "bc83d9c4-1ea5-45ac-dc1b-2860bf85bd08"
   },
   "outputs": [
    {
     "name": "stdout",
     "output_type": "stream",
     "text": [
      "{'Tableau', 'R', 'Python', 'Machine Learning', 'SQL'}\n"
     ]
    }
   ],
   "source": [
    "skills_set1 = {'Python', 'SQL', 'Tableau'}\n",
    "skills_set2 = {'R', 'SQL', 'Machine Learning'}\n",
    "all_skills = skills_set1.union(skills_set2)\n",
    "print(all_skills)"
   ]
  }
 ],
 "metadata": {
  "colab": {
   "authorship_tag": "ABX9TyO/V2c0Gpkw+/u2X71LzVx2",
   "provenance": []
  },
  "kernelspec": {
   "display_name": "python_course",
   "language": "python",
   "name": "python3"
  },
  "language_info": {
   "codemirror_mode": {
    "name": "ipython",
    "version": 3
   },
   "file_extension": ".py",
   "mimetype": "text/x-python",
   "name": "python",
   "nbconvert_exporter": "python",
   "pygments_lexer": "ipython3",
   "version": "3.13.5"
  }
 },
 "nbformat": 4,
 "nbformat_minor": 0
}
