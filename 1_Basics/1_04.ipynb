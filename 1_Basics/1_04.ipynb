{
 "cells": [
  {
   "cell_type": "markdown",
   "metadata": {
    "id": "OsvAM6ifTR8P"
   },
   "source": [
    "# 1_4_1\n",
    "Convert the string job_title to uppercase. The variable is set to 'data scientist'.\n"
   ]
  },
  {
   "cell_type": "code",
   "execution_count": 1,
   "metadata": {
    "colab": {
     "base_uri": "https://localhost:8080/"
    },
    "executionInfo": {
     "elapsed": 16,
     "status": "ok",
     "timestamp": 1755606639327,
     "user": {
      "displayName": "Nicolas Büttner",
      "userId": "04511731173288379148"
     },
     "user_tz": -120
    },
    "id": "uyljkKfcTaB1",
    "outputId": "c4481f7e-abb7-4001-a119-581874d5ec5c"
   },
   "outputs": [
    {
     "name": "stdout",
     "output_type": "stream",
     "text": [
      "DATA SCIENTIST\n"
     ]
    }
   ],
   "source": [
    "job_title = 'data scientist'\n",
    "job_title_upper = job_title.upper()\n",
    "print(job_title_upper)"
   ]
  },
  {
   "cell_type": "markdown",
   "metadata": {
    "id": "8eZNUWY1T698"
   },
   "source": [
    "# 1_4_2\n",
    "Replace the word 'Analyst' with 'Engineer' in the string job_title. The variable is set to 'Data Analyst'.\n"
   ]
  },
  {
   "cell_type": "code",
   "execution_count": 2,
   "metadata": {
    "colab": {
     "base_uri": "https://localhost:8080/"
    },
    "executionInfo": {
     "elapsed": 7,
     "status": "ok",
     "timestamp": 1755606845608,
     "user": {
      "displayName": "Nicolas Büttner",
      "userId": "04511731173288379148"
     },
     "user_tz": -120
    },
    "id": "L95uXT4OT9xa",
    "outputId": "98c12da3-4d78-46b8-a986-971c9f3c7d1c"
   },
   "outputs": [
    {
     "name": "stdout",
     "output_type": "stream",
     "text": [
      "Data Engineer\n"
     ]
    }
   ],
   "source": [
    "job_title = 'Data Analyst'\n",
    "new_job_title = job_title.replace('Analyst', 'Engineer')\n",
    "print(new_job_title)"
   ]
  },
  {
   "cell_type": "markdown",
   "metadata": {
    "id": "Hx6ynzroUtNR"
   },
   "source": [
    "# 1_4_3\n",
    "Concatenate the strings seniority_level and job_title with a space in between. The variables are set to 'Senior' and 'Data Analyst' respectively."
   ]
  },
  {
   "cell_type": "code",
   "execution_count": 3,
   "metadata": {
    "colab": {
     "base_uri": "https://localhost:8080/"
    },
    "executionInfo": {
     "elapsed": 20,
     "status": "ok",
     "timestamp": 1755606994233,
     "user": {
      "displayName": "Nicolas Büttner",
      "userId": "04511731173288379148"
     },
     "user_tz": -120
    },
    "id": "wAsVMYaDUxZf",
    "outputId": "2bbbd92b-aae3-47db-b495-e9e278c2a3b4"
   },
   "outputs": [
    {
     "name": "stdout",
     "output_type": "stream",
     "text": [
      "Senior Data Analyst\n"
     ]
    }
   ],
   "source": [
    "seniority_level = 'Senior'\n",
    "job_title = 'Data Analyst'\n",
    "full_job_title  = seniority_level + ' ' + job_title\n",
    "print(full_job_title )"
   ]
  },
  {
   "cell_type": "markdown",
   "metadata": {
    "id": "bu2GVgg2VReB"
   },
   "source": [
    "# 1_4_4\n",
    "Check the length of a string job_title. The variable is set to 'Data Scientist'.\n"
   ]
  },
  {
   "cell_type": "code",
   "execution_count": 4,
   "metadata": {
    "colab": {
     "base_uri": "https://localhost:8080/"
    },
    "executionInfo": {
     "elapsed": 13,
     "status": "ok",
     "timestamp": 1755607112312,
     "user": {
      "displayName": "Nicolas Büttner",
      "userId": "04511731173288379148"
     },
     "user_tz": -120
    },
    "id": "rPpD_0Y3TOQZ",
    "outputId": "d6535c5c-cc95-44bf-be85-2a03239785a8"
   },
   "outputs": [
    {
     "name": "stdout",
     "output_type": "stream",
     "text": [
      "14\n"
     ]
    }
   ],
   "source": [
    "job_title = 'Data Scientist'\n",
    "job_title_length = len(job_title)\n",
    "print(job_title_length)"
   ]
  },
  {
   "cell_type": "markdown",
   "metadata": {
    "id": "164QFvYtV1jm"
   },
   "source": [
    "# 1_4_5\n",
    "Convert the string job_title to lowercase. The variable is set to 'DATA ENGINEER'."
   ]
  },
  {
   "cell_type": "code",
   "execution_count": 5,
   "metadata": {
    "colab": {
     "base_uri": "https://localhost:8080/"
    },
    "executionInfo": {
     "elapsed": 9,
     "status": "ok",
     "timestamp": 1755607283104,
     "user": {
      "displayName": "Nicolas Büttner",
      "userId": "04511731173288379148"
     },
     "user_tz": -120
    },
    "id": "i3-ghSdaV-Du",
    "outputId": "a4c91c98-48ad-4799-c4e4-e9c1ffeb9aa1"
   },
   "outputs": [
    {
     "name": "stdout",
     "output_type": "stream",
     "text": [
      "data engineer\n"
     ]
    }
   ],
   "source": [
    "job_title = 'DATA ENGINEER'\n",
    "job_title_lower =job_title.lower()\n",
    "print(job_title_lower)"
   ]
  }
 ],
 "metadata": {
  "colab": {
   "authorship_tag": "ABX9TyMHcK17fYuFvyklmY/jrf2b",
   "provenance": []
  },
  "kernelspec": {
   "display_name": "python_course",
   "language": "python",
   "name": "python3"
  },
  "language_info": {
   "codemirror_mode": {
    "name": "ipython",
    "version": 3
   },
   "file_extension": ".py",
   "mimetype": "text/x-python",
   "name": "python",
   "nbconvert_exporter": "python",
   "pygments_lexer": "ipython3",
   "version": "3.13.5"
  }
 },
 "nbformat": 4,
 "nbformat_minor": 0
}
