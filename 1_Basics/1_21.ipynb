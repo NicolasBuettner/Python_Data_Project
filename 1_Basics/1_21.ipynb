{
 "cells": [
  {
   "cell_type": "markdown",
   "metadata": {
    "id": "hUGxFhLre1TL"
   },
   "source": [
    "# 1_21_1\n",
    "Create a class named JobPosting with attributes title, company, and location.\n",
    "\n",
    "Create an instance of an object (called job) of this class with the title 'Data Scientist', company 'Tech Innovations', and location 'New York'.\n",
    "\n",
    "Print the attributes of the object."
   ]
  },
  {
   "cell_type": "code",
   "execution_count": null,
   "metadata": {
    "colab": {
     "base_uri": "https://localhost:8080/"
    },
    "executionInfo": {
     "elapsed": 49,
     "status": "ok",
     "timestamp": 1756482994575,
     "user": {
      "displayName": "Nicolas Büttner",
      "userId": "04511731173288379148"
     },
     "user_tz": -120
    },
    "id": "5iy6rP5IeylW",
    "outputId": "f03a13c1-e0d4-44f2-abf3-f3bc8896c3af"
   },
   "outputs": [
    {
     "name": "stdout",
     "output_type": "stream",
     "text": [
      "Data Scientist\n",
      "Tech Innovations\n",
      "New York\n"
     ]
    }
   ],
   "source": [
    "class JobPosting:\n",
    "  def __init__(self, title, company, location):\n",
    "    self.title = title\n",
    "    self.company = company\n",
    "    self.location = location\n",
    "\n",
    "job = JobPosting('Data Scientist', 'Tech Innovations', 'New York')\n",
    "\n",
    "print(job.title)\n",
    "print(job.company)\n",
    "print(job.location)"
   ]
  },
  {
   "cell_type": "markdown",
   "metadata": {
    "id": "BVCvj69Xi4r8"
   },
   "source": [
    "# 1_21_2\n",
    "Create a class named JobPosting with a method to_dict that converts the job posting details to a dictionary.\n",
    "\n",
    "Instantiate an object (called job) of this class with the title 'Data Scientist', company 'Tech Innovations', location 'New York', and salary as 120000.\n",
    "\n",
    "Convert its details to a dictionary using the to_dict method.\n",
    "\n",
    "Print the dictionary."
   ]
  },
  {
   "cell_type": "code",
   "execution_count": null,
   "metadata": {
    "colab": {
     "base_uri": "https://localhost:8080/"
    },
    "executionInfo": {
     "elapsed": 25,
     "status": "ok",
     "timestamp": 1756483720289,
     "user": {
      "displayName": "Nicolas Büttner",
      "userId": "04511731173288379148"
     },
     "user_tz": -120
    },
    "id": "Yx4ezM1agM17",
    "outputId": "148a805f-8576-402f-cc23-1f841628266b"
   },
   "outputs": [
    {
     "name": "stdout",
     "output_type": "stream",
     "text": [
      "{'title': 'Data Scientist', 'company': 'Tech Innovations', 'location': 'New York', 'salary': 120000}\n"
     ]
    }
   ],
   "source": [
    "class JobPosting:\n",
    "  def __init__(self, title, company, location, salary):\n",
    "    self.title = title\n",
    "    self.company = company\n",
    "    self.location = location\n",
    "    self.salary = salary\n",
    "\n",
    "  def to_dict(self):\n",
    "    return {\n",
    "        'title': self.title,\n",
    "        'company': self.company,\n",
    "        'location': self.location,\n",
    "        'salary': self.salary\n",
    "    }\n",
    "\n",
    "\n",
    "job = JobPosting('Data Scientist', 'Tech Innovations', 'New York', 120000)\n",
    "\n",
    "print(job.to_dict())"
   ]
  },
  {
   "cell_type": "markdown",
   "metadata": {
    "id": "nwKDG4KZlyfV"
   },
   "source": [
    "# 1_21_3\n",
    "Create a class named JobPosting with a method compare_salary that compares the salary of two job postings and returns the title of the job with the higher salary.\n",
    "\n",
    "Instantiate two objects called job1 and job2 of this class and compare their salaries using the compare_salary method.\n",
    "\n",
    "The two objects are defined below in the code needed."
   ]
  },
  {
   "cell_type": "code",
   "execution_count": null,
   "metadata": {
    "colab": {
     "base_uri": "https://localhost:8080/"
    },
    "executionInfo": {
     "elapsed": 56,
     "status": "ok",
     "timestamp": 1756484417065,
     "user": {
      "displayName": "Nicolas Büttner",
      "userId": "04511731173288379148"
     },
     "user_tz": -120
    },
    "id": "wl1Qd3gOnDfb",
    "outputId": "2532ee69-328f-4ef3-d744-4aa3adbcc06a"
   },
   "outputs": [
    {
     "name": "stdout",
     "output_type": "stream",
     "text": [
      "Data Scientist\n"
     ]
    }
   ],
   "source": [
    "class JobPosting:\n",
    "    def __init__(self, title, company, location, salary):\n",
    "        self.title = title\n",
    "        self.company = company\n",
    "        self.location = location\n",
    "        self.salary = salary\n",
    "\n",
    "    def compare_salary(self, other_job):\n",
    "        if self.salary > other_job.salary:\n",
    "            return self.title\n",
    "        else:\n",
    "            return other_job.title\n",
    "\n",
    "job1 = JobPosting('Data Scientist', 'Tech Innovations', 'New York', 120000)\n",
    "job2 = JobPosting('Data Analyst', 'Data Driven Co', 'San Francisco', 100000)\n",
    "\n",
    "print(job1.compare_salary(job2))"
   ]
  }
 ],
 "metadata": {
  "colab": {
   "authorship_tag": "ABX9TyP10Oo3vqDyTd++6fkpkhrO",
   "provenance": []
  },
  "kernelspec": {
   "display_name": "python_course",
   "language": "python",
   "name": "python3"
  },
  "language_info": {
   "codemirror_mode": {
    "name": "ipython",
    "version": 3
   },
   "file_extension": ".py",
   "mimetype": "text/x-python",
   "name": "python",
   "nbconvert_exporter": "python",
   "pygments_lexer": "ipython3",
   "version": "3.13.5"
  }
 },
 "nbformat": 4,
 "nbformat_minor": 0
}
