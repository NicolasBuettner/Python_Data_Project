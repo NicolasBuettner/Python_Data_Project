{
 "cells": [
  {
   "cell_type": "markdown",
   "metadata": {
    "id": "sTkZiSIaWQ6c"
   },
   "source": [
    "# 1_8_1\n",
    "Access the second job title in the list of job titles for data science roles and print it. The variable job_titles is set to ['Data Scientist', 'Data Analyst', 'Machine Learning Engineer']."
   ]
  },
  {
   "cell_type": "code",
   "execution_count": 1,
   "metadata": {
    "colab": {
     "base_uri": "https://localhost:8080/"
    },
    "executionInfo": {
     "elapsed": 6,
     "status": "ok",
     "timestamp": 1755624226481,
     "user": {
      "displayName": "Nicolas Büttner",
      "userId": "04511731173288379148"
     },
     "user_tz": -120
    },
    "id": "u5DjVb79WUtG",
    "outputId": "11b31192-9712-4c50-c260-37099617f034"
   },
   "outputs": [
    {
     "name": "stdout",
     "output_type": "stream",
     "text": [
      "Data Analyst\n"
     ]
    }
   ],
   "source": [
    "job_titles = ['Data Scientist', 'Data Analyst', 'Machine Learning Engineer']\n",
    "\n",
    "print(job_titles[1])"
   ]
  },
  {
   "cell_type": "markdown",
   "metadata": {
    "id": "m-0MIKbbXC7n"
   },
   "source": [
    "# 1_8_2\n",
    "Change the third job title in the list of job titles for data science roles to 'AI Specialist' and print the updated list. The variable job_titles is set to ['Data Scientist', 'Data Analyst', 'Machine Learning Engineer']."
   ]
  },
  {
   "cell_type": "code",
   "execution_count": 2,
   "metadata": {
    "colab": {
     "base_uri": "https://localhost:8080/"
    },
    "executionInfo": {
     "elapsed": 27,
     "status": "ok",
     "timestamp": 1755624510240,
     "user": {
      "displayName": "Nicolas Büttner",
      "userId": "04511731173288379148"
     },
     "user_tz": -120
    },
    "id": "AGrSBVlEWmRc",
    "outputId": "f6502304-956b-4418-922d-27c981295bcc"
   },
   "outputs": [
    {
     "name": "stdout",
     "output_type": "stream",
     "text": [
      "['Data Scientist', 'Data Analyst', 'AI Specialist']\n"
     ]
    }
   ],
   "source": [
    "job_titles = ['Data Scientist', 'Data Analyst', 'Machine Learning Engineer']\n",
    "\n",
    "job_titles[2] = 'AI Specialist'\n",
    "print(job_titles)"
   ]
  },
  {
   "cell_type": "markdown",
   "metadata": {
    "id": "kEIip2_khEHe"
   },
   "source": [
    "# 1_8_3\n",
    "Slice the list of job titles for data science roles to get the first two job titles and print the result. The list is ['Data Scientist', 'Data Analyst', 'Machine Learning Engineer', 'Data Engineer'].\n",
    "\n"
   ]
  },
  {
   "cell_type": "code",
   "execution_count": 3,
   "metadata": {
    "colab": {
     "base_uri": "https://localhost:8080/"
    },
    "executionInfo": {
     "elapsed": 6,
     "status": "ok",
     "timestamp": 1755627050722,
     "user": {
      "displayName": "Nicolas Büttner",
      "userId": "04511731173288379148"
     },
     "user_tz": -120
    },
    "id": "AQV8hhkEXjbC",
    "outputId": "290860c7-37e2-461f-a366-0e546d8d99e0"
   },
   "outputs": [
    {
     "name": "stdout",
     "output_type": "stream",
     "text": [
      "['Data Scientist', 'Data Analyst']\n"
     ]
    }
   ],
   "source": [
    "job_titles = ['Data Scientist', 'Data Analyst', 'Machine Learning Engineer', 'Data Engineer']\n",
    "first_two = job_titles[:2]\n",
    "print(first_two)"
   ]
  },
  {
   "cell_type": "markdown",
   "metadata": {
    "id": "Vu3Q7rJGhv5M"
   },
   "source": [
    "# 1_8_4\n",
    "Add a new job title 'Data Engineer' to the end of the list of job titles for data science roles and print the updated list. The variable job_titles is set to ['Data Scientist', 'Data Analyst', 'Machine Learning Engineer']."
   ]
  },
  {
   "cell_type": "code",
   "execution_count": 4,
   "metadata": {
    "colab": {
     "base_uri": "https://localhost:8080/"
    },
    "executionInfo": {
     "elapsed": 14,
     "status": "ok",
     "timestamp": 1755627128534,
     "user": {
      "displayName": "Nicolas Büttner",
      "userId": "04511731173288379148"
     },
     "user_tz": -120
    },
    "id": "0SZnFN3phm7X",
    "outputId": "a512514f-a5eb-4c25-aa30-3ab021e61d62"
   },
   "outputs": [
    {
     "name": "stdout",
     "output_type": "stream",
     "text": [
      "['Data Scientist', 'Data Analyst', 'Machine Learning Engineer', 'Data Engineer']\n"
     ]
    }
   ],
   "source": [
    "job_titles = ['Data Scientist', 'Data Analyst', 'Machine Learning Engineer']\n",
    "job_titles.append('Data Engineer')\n",
    "print(job_titles)"
   ]
  },
  {
   "cell_type": "markdown",
   "metadata": {
    "id": "_foCWorCiGlU"
   },
   "source": [
    "# 1_8_5\n",
    "Insert a new job title 'Business Analyst' at the second position in the list of job titles for data science roles and print the updated list. The variable job_titles is set to ['Data Scientist', 'Data Analyst', 'Machine Learning Engineer']."
   ]
  },
  {
   "cell_type": "code",
   "execution_count": 5,
   "metadata": {
    "colab": {
     "base_uri": "https://localhost:8080/"
    },
    "executionInfo": {
     "elapsed": 39,
     "status": "ok",
     "timestamp": 1755627350906,
     "user": {
      "displayName": "Nicolas Büttner",
      "userId": "04511731173288379148"
     },
     "user_tz": -120
    },
    "id": "kppSZBO2h-Ob",
    "outputId": "4dfdfec6-2dbe-4fa0-ba60-0c4afc6fcdc1"
   },
   "outputs": [
    {
     "name": "stdout",
     "output_type": "stream",
     "text": [
      "['Data Scientist', 'Business Analyst', 'Data Analyst', 'Machine Learning Engineer']\n"
     ]
    }
   ],
   "source": [
    "job_titles = ['Data Scientist', 'Data Analyst', 'Machine Learning Engineer']\n",
    "job_titles.insert(1, 'Business Analyst')\n",
    "print(job_titles)"
   ]
  }
 ],
 "metadata": {
  "colab": {
   "authorship_tag": "ABX9TyPEneaTncwKuppgEqpGZFU4",
   "provenance": []
  },
  "kernelspec": {
   "display_name": "python_course",
   "language": "python",
   "name": "python3"
  },
  "language_info": {
   "codemirror_mode": {
    "name": "ipython",
    "version": 3
   },
   "file_extension": ".py",
   "mimetype": "text/x-python",
   "name": "python",
   "nbconvert_exporter": "python",
   "pygments_lexer": "ipython3",
   "version": "3.13.5"
  }
 },
 "nbformat": 4,
 "nbformat_minor": 0
}
