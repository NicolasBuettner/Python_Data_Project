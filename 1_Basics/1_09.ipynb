{
 "cells": [
  {
   "cell_type": "markdown",
   "metadata": {
    "id": "qn0_t6-a-ArD"
   },
   "source": [
    "# 1_9_1\n",
    "Access the value of the number of job postings for the key 'Data Analyst' from the dictionary job_postings and print it. The dictonary job_postings is set to {'Data Scientist': 120, 'Data Analyst': 80, 'Machine Learning Engineer': 50}."
   ]
  },
  {
   "cell_type": "code",
   "execution_count": null,
   "metadata": {
    "colab": {
     "base_uri": "https://localhost:8080/"
    },
    "executionInfo": {
     "elapsed": 4,
     "status": "ok",
     "timestamp": 1755768842708,
     "user": {
      "displayName": "Nicolas Büttner",
      "userId": "04511731173288379148"
     },
     "user_tz": -120
    },
    "id": "qV4pKuSV-E7W",
    "outputId": "12d31323-60fe-41dc-a97f-c0b17bd4884d"
   },
   "outputs": [
    {
     "name": "stdout",
     "output_type": "stream",
     "text": [
      "80\n"
     ]
    }
   ],
   "source": [
    "job_postings = {'Data Scientist': 120, 'Data Analyst': 80, 'Machine Learning Engineer': 50}\n",
    "print(job_postings['Data Analyst'])"
   ]
  },
  {
   "cell_type": "markdown",
   "metadata": {
    "id": "aQMIpEYE-qYZ"
   },
   "source": [
    "# 1_9_2\n",
    "Add a new job role under the key 'AI Specialist' with a value of 30 postings to the dictionary job_postings and print the updated dictionary. The dictionary job_postings is set to {'Data Scientist': 120, 'Data Analyst': 80, 'Machine Learning Engineer': 50}."
   ]
  },
  {
   "cell_type": "code",
   "execution_count": 2,
   "metadata": {
    "colab": {
     "base_uri": "https://localhost:8080/"
    },
    "executionInfo": {
     "elapsed": 5,
     "status": "ok",
     "timestamp": 1755768949742,
     "user": {
      "displayName": "Nicolas Büttner",
      "userId": "04511731173288379148"
     },
     "user_tz": -120
    },
    "id": "vrtf1eG5-SCY",
    "outputId": "68b3ac1f-afba-46b3-b003-70725b5b13e5"
   },
   "outputs": [
    {
     "name": "stdout",
     "output_type": "stream",
     "text": [
      "{'Data Scientist': 120, 'Data Analyst': 80, 'Machine Learning Engineer': 50, 'AI Specialist': 30}\n"
     ]
    }
   ],
   "source": [
    "job_postings = {'Data Scientist': 120, 'Data Analyst': 80, 'Machine Learning Engineer': 50}\n",
    "job_postings['AI Specialist'] = 30\n",
    "print(job_postings)"
   ]
  },
  {
   "cell_type": "markdown",
   "metadata": {
    "id": "6ilyUlRv_LRG"
   },
   "source": [
    "# 1_9_3\n",
    "Remove the job role 'Machine Learning Engineer' from the dictionary job_postings and print the updated dictionary. The dictonary job_postings is set to {'Data Scientist': 120, 'Data Analyst': 80, 'Machine Learning Engineer': 50}."
   ]
  },
  {
   "cell_type": "code",
   "execution_count": 3,
   "metadata": {
    "colab": {
     "base_uri": "https://localhost:8080/"
    },
    "executionInfo": {
     "elapsed": 5,
     "status": "ok",
     "timestamp": 1755769067689,
     "user": {
      "displayName": "Nicolas Büttner",
      "userId": "04511731173288379148"
     },
     "user_tz": -120
    },
    "id": "IFcwuun8-8_F",
    "outputId": "77ce6aa4-87d2-4392-c3d5-84ce214b08e2"
   },
   "outputs": [
    {
     "name": "stdout",
     "output_type": "stream",
     "text": [
      "{'Data Scientist': 120, 'Data Analyst': 80}\n"
     ]
    }
   ],
   "source": [
    "job_postings = {'Data Scientist': 120, 'Data Analyst': 80, 'Machine Learning Engineer': 50}\n",
    "job_postings.pop('Machine Learning Engineer')\n",
    "print(job_postings)"
   ]
  },
  {
   "cell_type": "markdown",
   "metadata": {
    "id": "0R3Zk7kN_lgu"
   },
   "source": [
    "# 1_9_4\n",
    "Merge two dictionaries job_postings1 and job_postings2 containing job roles and their postings. With job_postings1 set to {'Data Scientist': 120, 'Data Analyst': 80} and job_postings2 to {'Machine Learning Engineer': 50, 'AI Specialist': 30}. Print the merged dictionary."
   ]
  },
  {
   "cell_type": "code",
   "execution_count": 4,
   "metadata": {
    "colab": {
     "base_uri": "https://localhost:8080/"
    },
    "executionInfo": {
     "elapsed": 6,
     "status": "ok",
     "timestamp": 1755769556157,
     "user": {
      "displayName": "Nicolas Büttner",
      "userId": "04511731173288379148"
     },
     "user_tz": -120
    },
    "id": "KKRayWsO_a0g",
    "outputId": "e96abb5f-cc72-4fc4-e186-cf9af024cf98"
   },
   "outputs": [
    {
     "name": "stdout",
     "output_type": "stream",
     "text": [
      "{'Data Scientist': 120, 'Data Analyst': 80, 'Machine Learning Engineer': 50, 'AI Specialist': 30}\n"
     ]
    }
   ],
   "source": [
    "job_postings1 = {'Data Scientist': 120, 'Data Analyst': 80}\n",
    "job_postings2 = {'Machine Learning Engineer': 50, 'AI Specialist': 30}\n",
    "job_postings1.update(job_postings2)\n",
    "print(job_postings1)"
   ]
  },
  {
   "cell_type": "markdown",
   "metadata": {
    "id": "AXLwMDbDBabT"
   },
   "source": [
    "# 1_9_5\n",
    "Create a nested dictionary job_details where each key is a job role and the value is another dictionary containing 'postings' and 'average_salary'. The details for each are: 'Data Scientist' has 120 postings and an average salary of 120000; 'Data Analyst' has 80 postings and an average salary of 80000; Machine Learning Engineer has 50 postings and average salary of 110000. Print the nested dictionary."
   ]
  },
  {
   "cell_type": "markdown",
   "metadata": {
    "id": "Y96Jezx0B-ht"
   },
   "source": []
  },
  {
   "cell_type": "code",
   "execution_count": 5,
   "metadata": {
    "colab": {
     "base_uri": "https://localhost:8080/"
    },
    "executionInfo": {
     "elapsed": 6,
     "status": "ok",
     "timestamp": 1755769807985,
     "user": {
      "displayName": "Nicolas Büttner",
      "userId": "04511731173288379148"
     },
     "user_tz": -120
    },
    "id": "O9iuqPP4Bcig",
    "outputId": "7a19d31f-b577-4495-bb74-1664bd193939"
   },
   "outputs": [
    {
     "name": "stdout",
     "output_type": "stream",
     "text": [
      "{'Data Scientist': {'postings': 120, 'avg_salary': 120000}, 'Data Analyst': {'postings': 80, 'avg_salary': 80000}, 'Machine Learning Engineer': {'postings': 50, 'avg_salary': 110000}}\n"
     ]
    }
   ],
   "source": [
    "job_details = {\n",
    "    'Data Scientist': {'postings': 120, 'avg_salary': 120_000},\n",
    "    'Data Analyst': {'postings': 80, 'avg_salary': 80_000},\n",
    "    'Machine Learning Engineer': {'postings': 50, 'avg_salary': 110_000}}\n",
    "\n",
    "print(job_details)\n"
   ]
  }
 ],
 "metadata": {
  "colab": {
   "authorship_tag": "ABX9TyMGJItCBFeEaHew+TehFcNs",
   "provenance": []
  },
  "kernelspec": {
   "display_name": "python_course",
   "language": "python",
   "name": "python3"
  },
  "language_info": {
   "codemirror_mode": {
    "name": "ipython",
    "version": 3
   },
   "file_extension": ".py",
   "mimetype": "text/x-python",
   "name": "python",
   "nbconvert_exporter": "python",
   "pygments_lexer": "ipython3",
   "version": "3.13.5"
  }
 },
 "nbformat": 4,
 "nbformat_minor": 0
}
