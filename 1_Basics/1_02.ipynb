{
 "cells": [
  {
   "cell_type": "markdown",
   "metadata": {
    "id": "g04RGFRWpdLA"
   },
   "source": [
    "# 1_2_1"
   ]
  },
  {
   "cell_type": "markdown",
   "metadata": {
    "id": "oLOI0brhqKQU"
   },
   "source": [
    "Create a variable, called *job_count* to store the number *42*. Print *job_count* once calculated."
   ]
  },
  {
   "cell_type": "code",
   "execution_count": null,
   "metadata": {
    "executionInfo": {
     "elapsed": 9,
     "status": "ok",
     "timestamp": 1755595330972,
     "user": {
      "displayName": "Nicolas Büttner",
      "userId": "04511731173288379148"
     },
     "user_tz": -120
    },
    "id": "2G7fJwEioYQ0"
   },
   "outputs": [],
   "source": [
    "job_count = 42\n",
    "print(job_count)"
   ]
  },
  {
   "cell_type": "markdown",
   "metadata": {
    "id": "YAWrGinnqAN5"
   },
   "source": [
    "# 1_2_2"
   ]
  },
  {
   "cell_type": "markdown",
   "metadata": {
    "id": "nf22S9ROqgiA"
   },
   "source": [
    "Create variables to store the job title, company name, and whether the job is remote for a Data Engineer position. Set the job title to *'Data Engineer'*, the company name to *'DataWorks'*, and the remote status to *True*. Print all the variables."
   ]
  },
  {
   "cell_type": "code",
   "execution_count": null,
   "metadata": {
    "colab": {
     "base_uri": "https://localhost:8080/"
    },
    "executionInfo": {
     "elapsed": 10,
     "status": "ok",
     "timestamp": 1755595983676,
     "user": {
      "displayName": "Nicolas Büttner",
      "userId": "04511731173288379148"
     },
     "user_tz": -120
    },
    "id": "dN3ms0ZNqB9t",
    "outputId": "cb48f36a-b4d7-459f-e311-308a1a2f1538"
   },
   "outputs": [
    {
     "name": "stdout",
     "output_type": "stream",
     "text": [
      "Data Engineer DataWorks True\n"
     ]
    }
   ],
   "source": [
    "job_title = 'Data Engineer'\n",
    "company_name = 'DataWorks'\n",
    "remote_status = True\n",
    "print(job_title, company_name, remote_status)"
   ]
  },
  {
   "cell_type": "markdown",
   "metadata": {
    "id": "jm970yZJrTeZ"
   },
   "source": [
    "# 1_2_3"
   ]
  },
  {
   "cell_type": "markdown",
   "metadata": {
    "id": "hXvdWYr1rVqQ"
   },
   "source": [
    "Calculate the total compensation for a Data Scientist by adding two variables of base_salary and bonus. The base salary is *120000* and the bonus is *20000*. Store the result in a variable named *total_compensation*. Print *total_compensation* once calculated.\n",
    "\n"
   ]
  },
  {
   "cell_type": "code",
   "execution_count": 4,
   "metadata": {
    "colab": {
     "base_uri": "https://localhost:8080/"
    },
    "executionInfo": {
     "elapsed": 16,
     "status": "ok",
     "timestamp": 1755596116886,
     "user": {
      "displayName": "Nicolas Büttner",
      "userId": "04511731173288379148"
     },
     "user_tz": -120
    },
    "id": "WTbxce_tq_h6",
    "outputId": "4b22f00a-0d26-4ddb-ef07-34cc62d0a1d5"
   },
   "outputs": [
    {
     "name": "stdout",
     "output_type": "stream",
     "text": [
      "140000\n"
     ]
    }
   ],
   "source": [
    "base_salary = 120000\n",
    "bonus = 20000\n",
    "total_compensation = base_salary + bonus\n",
    "print(total_compensation)"
   ]
  },
  {
   "cell_type": "markdown",
   "metadata": {
    "id": "Bqy1o5QQr6Sr"
   },
   "source": [
    "# 1_2_4"
   ]
  },
  {
   "cell_type": "markdown",
   "metadata": {
    "id": "k9AJlwZWr8ME"
   },
   "source": [
    "Calculate the monthly salary of a Data Analyst job by dividing the annual salary of *$72K* by 12 and then printing the monthly salary. Assign appropriate variable names for each.\n",
    "\n"
   ]
  },
  {
   "cell_type": "code",
   "execution_count": 5,
   "metadata": {
    "colab": {
     "base_uri": "https://localhost:8080/"
    },
    "executionInfo": {
     "elapsed": 8,
     "status": "ok",
     "timestamp": 1755596327071,
     "user": {
      "displayName": "Nicolas Büttner",
      "userId": "04511731173288379148"
     },
     "user_tz": -120
    },
    "id": "r6xCj45EsB_K",
    "outputId": "d38931ea-3daf-4081-c6da-c87ab1b5b991"
   },
   "outputs": [
    {
     "name": "stdout",
     "output_type": "stream",
     "text": [
      "6000.0\n"
     ]
    }
   ],
   "source": [
    "annual_salary = 72000\n",
    "monthly_salary = annual_salary / 12\n",
    "print(monthly_salary)"
   ]
  },
  {
   "cell_type": "markdown",
   "metadata": {
    "id": "JGmzRcVusmRt"
   },
   "source": [
    "# 1_2_5"
   ]
  },
  {
   "cell_type": "markdown",
   "metadata": {
    "id": "sPPemFQtspix"
   },
   "source": [
    "Create variables to store the job title, company name, and salary for a Data Scientist position at AI Solutions for $110K. Then, calculate the total compensation by adding a 10% bonus to the salary and print the total compensation, along with the job and company name.\n",
    "\n"
   ]
  },
  {
   "cell_type": "code",
   "execution_count": 6,
   "metadata": {
    "colab": {
     "base_uri": "https://localhost:8080/"
    },
    "executionInfo": {
     "elapsed": 10,
     "status": "ok",
     "timestamp": 1755596798182,
     "user": {
      "displayName": "Nicolas Büttner",
      "userId": "04511731173288379148"
     },
     "user_tz": -120
    },
    "id": "gW94US_gsut3",
    "outputId": "234f2cec-6e72-4adb-aa5a-7ea02f429932"
   },
   "outputs": [
    {
     "name": "stdout",
     "output_type": "stream",
     "text": [
      "Data Scientist AI Solutions 121000.0\n"
     ]
    }
   ],
   "source": [
    "job_title = 'Data Scientist'\n",
    "company_name = 'AI Solutions'\n",
    "salary = 110000\n",
    "bonus = salary * 0.1\n",
    "total_compensation = salary + bonus\n",
    "print(job_title, company_name, total_compensation)\n"
   ]
  }
 ],
 "metadata": {
  "colab": {
   "authorship_tag": "ABX9TyNoN1wWUv4Mu5kEadV479qX",
   "provenance": []
  },
  "kernelspec": {
   "display_name": "python_course",
   "language": "python",
   "name": "python3"
  },
  "language_info": {
   "codemirror_mode": {
    "name": "ipython",
    "version": 3
   },
   "file_extension": ".py",
   "mimetype": "text/x-python",
   "name": "python",
   "nbconvert_exporter": "python",
   "pygments_lexer": "ipython3",
   "version": "3.13.5"
  }
 },
 "nbformat": 4,
 "nbformat_minor": 0
}
