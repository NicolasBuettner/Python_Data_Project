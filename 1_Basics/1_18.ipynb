{
 "cells": [
  {
   "cell_type": "markdown",
   "metadata": {
    "id": "EXlnFVs0nLwe"
   },
   "source": [
    "# 1_18_1\n",
    "Create a module named salary_calculator with a function calculate_annual_salary that takes an hourly wage and hours per week, and returns the annual salary. Import this module and use the function to calculate the annual salary for an hourly wage of $50 and 40 hours per week."
   ]
  },
  {
   "cell_type": "code",
   "execution_count": null,
   "metadata": {
    "colab": {
     "base_uri": "https://localhost:8080/"
    },
    "executionInfo": {
     "elapsed": 105,
     "status": "ok",
     "timestamp": 1756317543270,
     "user": {
      "displayName": "Nicolas Büttner",
      "userId": "04511731173288379148"
     },
     "user_tz": -120
    },
    "id": "mEfUWUTDm_5e",
    "outputId": "a7ed5db7-842d-43e2-baa6-d3bb60799f95"
   },
   "outputs": [
    {
     "name": "stdout",
     "output_type": "stream",
     "text": [
      "Writing salary_calculator.py\n"
     ]
    }
   ],
   "source": [
    "%%writefile salary_calculator.py\n",
    "def calculate_annual_salary(hourly_wage, hours_per_week):\n",
    "    return hourly_wage * hours_per_week * 52"
   ]
  },
  {
   "cell_type": "code",
   "execution_count": 2,
   "metadata": {
    "colab": {
     "base_uri": "https://localhost:8080/"
    },
    "executionInfo": {
     "elapsed": 9,
     "status": "ok",
     "timestamp": 1756317543295,
     "user": {
      "displayName": "Nicolas Büttner",
      "userId": "04511731173288379148"
     },
     "user_tz": -120
    },
    "id": "KhZ0f5ULoAtF",
    "outputId": "7652dd50-76f8-49ff-a1b3-d3d17112d775"
   },
   "outputs": [
    {
     "name": "stdout",
     "output_type": "stream",
     "text": [
      "104000\n"
     ]
    }
   ],
   "source": [
    "import salary_calculator\n",
    "annual_salary = salary_calculator.calculate_annual_salary(50, 40)\n",
    "print(annual_salary)"
   ]
  },
  {
   "cell_type": "markdown",
   "metadata": {
    "id": "HUUr81Vfoyvw"
   },
   "source": [
    "# 1_18_2\n",
    "Create a module named job_filter with a function filter_by_location that takes a list of job postings and a location and returns a list of job postings in that location. Import this module and use the function to filter job postings in 'New York'. Use the variable of job_postings shown below."
   ]
  },
  {
   "cell_type": "code",
   "execution_count": 3,
   "metadata": {
    "colab": {
     "base_uri": "https://localhost:8080/"
    },
    "executionInfo": {
     "elapsed": 8,
     "status": "ok",
     "timestamp": 1756317543304,
     "user": {
      "displayName": "Nicolas Büttner",
      "userId": "04511731173288379148"
     },
     "user_tz": -120
    },
    "id": "iQcuQBu5oM0t",
    "outputId": "276b6bcb-0b67-471c-c071-6dba458522c2"
   },
   "outputs": [
    {
     "name": "stdout",
     "output_type": "stream",
     "text": [
      "Writing job_filter.py\n"
     ]
    }
   ],
   "source": [
    "%%writefile job_filter.py\n",
    "\n",
    "def filter_by_location(job_postings, location):\n",
    "  return [job for job in job_postings if job['location'] == location]"
   ]
  },
  {
   "cell_type": "code",
   "execution_count": 4,
   "metadata": {
    "colab": {
     "base_uri": "https://localhost:8080/"
    },
    "executionInfo": {
     "elapsed": 6,
     "status": "ok",
     "timestamp": 1756317543313,
     "user": {
      "displayName": "Nicolas Büttner",
      "userId": "04511731173288379148"
     },
     "user_tz": -120
    },
    "id": "cXSlu2cZp0o1",
    "outputId": "d3a955bc-f252-4608-acad-7fde99c95ccf"
   },
   "outputs": [
    {
     "name": "stdout",
     "output_type": "stream",
     "text": [
      "[{'title': 'Data Scientist', 'location': 'New York'}, {'title': 'Machine Learning Engineer', 'location': 'New York'}]\n"
     ]
    }
   ],
   "source": [
    "import job_filter\n",
    "\n",
    "job_postings = [\n",
    "    {'title': 'Data Scientist', 'location': 'New York'},\n",
    "    {'title': 'Data Analyst', 'location': 'San Francisco'},\n",
    "    {'title': 'Machine Learning Engineer', 'location': 'New York'}\n",
    "]\n",
    "\n",
    "filtered_jobs = job_filter.filter_by_location(job_postings, 'New York')\n",
    "print(filtered_jobs)"
   ]
  }
 ],
 "metadata": {
  "colab": {
   "authorship_tag": "ABX9TyOecJfeJXhPXuoI8Kh0/TkN",
   "provenance": []
  },
  "kernelspec": {
   "display_name": "python_course",
   "language": "python",
   "name": "python3"
  },
  "language_info": {
   "codemirror_mode": {
    "name": "ipython",
    "version": 3
   },
   "file_extension": ".py",
   "mimetype": "text/x-python",
   "name": "python",
   "nbconvert_exporter": "python",
   "pygments_lexer": "ipython3",
   "version": "3.13.5"
  }
 },
 "nbformat": 4,
 "nbformat_minor": 0
}
