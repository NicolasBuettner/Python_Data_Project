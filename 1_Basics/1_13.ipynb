{
 "cells": [
  {
   "cell_type": "markdown",
   "metadata": {
    "id": "ASLwU9TUDnT4"
   },
   "source": [
    "# 1_13_1\n",
    "Print the job titles from the list job_titles using a for loop. The list job_titles is set to ['Data Scientist', 'Data Analyst', 'Machine Learning Engineer']."
   ]
  },
  {
   "cell_type": "code",
   "execution_count": 6,
   "metadata": {
    "colab": {
     "base_uri": "https://localhost:8080/"
    },
    "executionInfo": {
     "elapsed": 4,
     "status": "ok",
     "timestamp": 1755786994600,
     "user": {
      "displayName": "Nicolas Büttner",
      "userId": "04511731173288379148"
     },
     "user_tz": -120
    },
    "id": "wWNtqwW0Di_w",
    "outputId": "5a4c494c-a0cd-4fb9-fcbf-4db767d3de0c"
   },
   "outputs": [
    {
     "name": "stdout",
     "output_type": "stream",
     "text": [
      "Data Scientist\n",
      "Data Analyst\n",
      "Machine Learning Engineer\n"
     ]
    }
   ],
   "source": [
    "job_titles = ['Data Scientist', 'Data Analyst', 'Machine Learning Engineer']\n",
    "for title in job_titles:\n",
    "    print(title)"
   ]
  },
  {
   "cell_type": "markdown",
   "metadata": {
    "id": "KEe30lWWD5eX"
   },
   "source": [
    "# 1_13_2\n",
    "Calculate the total number of job postings from a list using a while loop. The list of job postings is [5, 10, 15, 20, 25]."
   ]
  },
  {
   "cell_type": "code",
   "execution_count": 7,
   "metadata": {
    "colab": {
     "base_uri": "https://localhost:8080/"
    },
    "executionInfo": {
     "elapsed": 9,
     "status": "ok",
     "timestamp": 1755787635992,
     "user": {
      "displayName": "Nicolas Büttner",
      "userId": "04511731173288379148"
     },
     "user_tz": -120
    },
    "id": "BcrV0-PMDvlH",
    "outputId": "754e56c5-c9c8-4b5b-c695-699c8e7ea7ea"
   },
   "outputs": [
    {
     "name": "stdout",
     "output_type": "stream",
     "text": [
      "75\n"
     ]
    }
   ],
   "source": [
    "job_postings = [5, 10, 15, 20, 25]\n",
    "\n",
    "total_postings = 0\n",
    "index = 0\n",
    "while index < len(job_postings):\n",
    "    total_postings += job_postings[index]\n",
    "    index += 1\n",
    "print(total_postings)"
   ]
  },
  {
   "cell_type": "markdown",
   "metadata": {
    "id": "Al14YOapGY0A"
   },
   "source": [
    "# 1_13_3\n",
    "Print the job titles from the list job_titles along with their index using a for loop and the enumerate() function. The list job_titles is set to ['Data Scientist', 'Data Analyst', 'Machine Learning Engineer']."
   ]
  },
  {
   "cell_type": "code",
   "execution_count": 8,
   "metadata": {
    "colab": {
     "base_uri": "https://localhost:8080/"
    },
    "executionInfo": {
     "elapsed": 11,
     "status": "ok",
     "timestamp": 1755788102355,
     "user": {
      "displayName": "Nicolas Büttner",
      "userId": "04511731173288379148"
     },
     "user_tz": -120
    },
    "id": "1lcAKtLFEeAo",
    "outputId": "4fd1bd41-294c-4c9b-de92-6cb36f231f72"
   },
   "outputs": [
    {
     "name": "stdout",
     "output_type": "stream",
     "text": [
      "0: Data Scientist\n",
      "1: Data Analyst\n",
      "2: Machine Learning Engineer\n"
     ]
    }
   ],
   "source": [
    "job_titles = ['Data Scientist', 'Data Analyst', 'Machine Learning Engineer']\n",
    "\n",
    "for index, title in enumerate(job_titles):\n",
    "    print(f'{index}: {title}')\n"
   ]
  },
  {
   "cell_type": "markdown",
   "metadata": {
    "id": "J0hURTjQI5YB"
   },
   "source": [
    "# 1_13_4\n",
    "Use a while loop to find the first job title that contains the word 'Engineer'. The list of job titles is ['Data Scientist', 'Data Analyst', 'Machine Learning Engineer', 'Software Engineer']."
   ]
  },
  {
   "cell_type": "code",
   "execution_count": 1,
   "metadata": {
    "colab": {
     "base_uri": "https://localhost:8080/"
    },
    "executionInfo": {
     "elapsed": 6,
     "status": "ok",
     "timestamp": 1755788938564,
     "user": {
      "displayName": "Nicolas Büttner",
      "userId": "04511731173288379148"
     },
     "user_tz": -120
    },
    "id": "9ccerogBHeAE",
    "outputId": "24b42022-8dc6-49c5-c4c7-3f1db54f3794"
   },
   "outputs": [
    {
     "name": "stdout",
     "output_type": "stream",
     "text": [
      "Machine Learning Engineer\n"
     ]
    }
   ],
   "source": [
    "job_titles = ['Data Scientist', 'Data Analyst', 'Machine Learning Engineer', 'Software Engineer']\n",
    "\n",
    "index = 0\n",
    "\n",
    "while index < len(job_titles):\n",
    "  if 'Engineer' in job_titles[index]:\n",
    "    print(job_titles[index])\n",
    "    break\n",
    "  index +=1"
   ]
  },
  {
   "cell_type": "markdown",
   "metadata": {
    "id": "PFmouU8CLhfp"
   },
   "source": [
    "# 1_13_5\n",
    "You have the following dictionary of positions_skills which is set to {'Data Scientist': ['Python', 'R'], 'Data Analyst': ['SQL', 'Excel'], 'Machine Learning Engineer': ['Python', 'TensorFlow']}. The keys are a data science position, and the values are a list of skills required for the position. Print a message for each individual skill required for these data science positions (e.g., \"The role of Data Scientist requires proficiency in Python\")."
   ]
  },
  {
   "cell_type": "code",
   "execution_count": 10,
   "metadata": {
    "colab": {
     "base_uri": "https://localhost:8080/"
    },
    "executionInfo": {
     "elapsed": 12,
     "status": "ok",
     "timestamp": 1755789667438,
     "user": {
      "displayName": "Nicolas Büttner",
      "userId": "04511731173288379148"
     },
     "user_tz": -120
    },
    "id": "OtCVOexSI8y6",
    "outputId": "2b16c9f0-ba69-433e-876d-3699974e9f08"
   },
   "outputs": [
    {
     "name": "stdout",
     "output_type": "stream",
     "text": [
      "The role of Data Scientist, requires proficiency in Python.\n",
      "The role of Data Scientist, requires proficiency in R.\n",
      "The role of Data Analyst, requires proficiency in SQL.\n",
      "The role of Data Analyst, requires proficiency in Excel.\n",
      "The role of Machine Learning Engineer, requires proficiency in Python.\n",
      "The role of Machine Learning Engineer, requires proficiency in TensorFlow.\n"
     ]
    }
   ],
   "source": [
    "positions_skills = {\n",
    "    'Data Scientist': ['Python', 'R'],\n",
    "    'Data Analyst': ['SQL', 'Excel'],\n",
    "    'Machine Learning Engineer': ['Python', 'TensorFlow']\n",
    "}\n",
    "\n",
    "for position, skills in positions_skills.items():\n",
    "    for skill in skills:\n",
    "        print(f'The role of {position}, requires proficiency in {skill}.')"
   ]
  }
 ],
 "metadata": {
  "colab": {
   "authorship_tag": "ABX9TyO9utJ6d48p+0i8h2zG3Fr9",
   "provenance": []
  },
  "kernelspec": {
   "display_name": "python_course",
   "language": "python",
   "name": "python3"
  },
  "language_info": {
   "codemirror_mode": {
    "name": "ipython",
    "version": 3
   },
   "file_extension": ".py",
   "mimetype": "text/x-python",
   "name": "python",
   "nbconvert_exporter": "python",
   "pygments_lexer": "ipython3",
   "version": "3.13.5"
  }
 },
 "nbformat": 4,
 "nbformat_minor": 0
}
