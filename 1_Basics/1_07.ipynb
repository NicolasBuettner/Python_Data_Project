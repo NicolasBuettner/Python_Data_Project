{
 "cells": [
  {
   "cell_type": "markdown",
   "metadata": {
    "id": "heK9p7dXBnnY"
   },
   "source": [
    "# 1_7_1\n",
    "Output someone's skill level based on the number of years someone has been using Python. Use the following criteria:\n",
    "\n",
    "*   Less than 2 years is 'Beginner'\n",
    "*   2 or more years is 'Intermediate'\n",
    "\n",
    "Set the variable python_experience to 3 and test this variable in the if statement."
   ]
  },
  {
   "cell_type": "code",
   "execution_count": 1,
   "metadata": {
    "colab": {
     "base_uri": "https://localhost:8080/"
    },
    "executionInfo": {
     "elapsed": 19,
     "status": "ok",
     "timestamp": 1755618908062,
     "user": {
      "displayName": "Nicolas Büttner",
      "userId": "04511731173288379148"
     },
     "user_tz": -120
    },
    "id": "kOrAg8fRBlRt",
    "outputId": "05866e74-a751-4511-850d-17a3ad48b90c"
   },
   "outputs": [
    {
     "name": "stdout",
     "output_type": "stream",
     "text": [
      "Intermediate\n"
     ]
    }
   ],
   "source": [
    "python_experience = 3\n",
    "if python_experience < 2:\n",
    "    skill_level = 'Beginner'\n",
    "else:\n",
    "    skill_level = 'Intermediate'\n",
    "print(skill_level)"
   ]
  },
  {
   "cell_type": "markdown",
   "metadata": {
    "id": "xo2mvWj9C0t3"
   },
   "source": [
    "# 1_7_2\n",
    "Output someone's skill level based on the number of data science tools they know. Use the following criteria:\n",
    "\n",
    "*   0-1 tools is 'Beginner'\n",
    "*   2-4 tools is 'Intermediate'\n",
    "*   More than 4 tools is 'Advanced'\n",
    "\n",
    "The variable tools_known is set to 3 to test with the if statement."
   ]
  },
  {
   "cell_type": "code",
   "execution_count": 2,
   "metadata": {
    "colab": {
     "base_uri": "https://localhost:8080/"
    },
    "executionInfo": {
     "elapsed": 50,
     "status": "ok",
     "timestamp": 1755620310341,
     "user": {
      "displayName": "Nicolas Büttner",
      "userId": "04511731173288379148"
     },
     "user_tz": -120
    },
    "id": "OSaWhJS0CKrZ",
    "outputId": "42085270-e3ab-413e-802a-de232f7bbc5b"
   },
   "outputs": [
    {
     "name": "stdout",
     "output_type": "stream",
     "text": [
      "Intermediate\n"
     ]
    }
   ],
   "source": [
    "tools_known = 3\n",
    "if tools_known <= 1:\n",
    "    skill_level = 'Beginner'\n",
    "elif tools_known <= 4:\n",
    "    skill_level = 'Intermediate'\n",
    "else:\n",
    "    skill_level = 'Advanced'\n",
    "print(skill_level)"
   ]
  },
  {
   "cell_type": "markdown",
   "metadata": {
    "id": "3ZWqLesLIGju"
   },
   "source": [
    "# 1_7_3\n",
    "Determine the job_title based on years of job experience and years of SQL experience. The variable job_experience is set to 4 and sql_experience is set to 2. Use the following criteria:\n",
    "\n",
    "Less than 2 years of job experience:\n",
    "*   0 SQL experience → \"Associate Analyst\"\n",
    "*   1+ years of SQL experience → \"Junior Analyst\"\n",
    "\n",
    "2 to 5 years of job experience:\n",
    "*   0 SQL experience → \"Associate Analyst\"\n",
    "*   1 year of SQL experience → \"Intermediate Analyst\"\n",
    "*   2+ years of SQL experience → \"Senior Analyst\"\n",
    "\n",
    "More than 5 years of job experience:\n",
    "*   0–2 years of SQL experience → \"Data Analyst\"\n",
    "*   3+ years of SQL experience → \"Lead Analyst\""
   ]
  },
  {
   "cell_type": "code",
   "execution_count": 3,
   "metadata": {
    "colab": {
     "base_uri": "https://localhost:8080/"
    },
    "executionInfo": {
     "elapsed": 10,
     "status": "ok",
     "timestamp": 1755621303498,
     "user": {
      "displayName": "Nicolas Büttner",
      "userId": "04511731173288379148"
     },
     "user_tz": -120
    },
    "id": "Z3Q5uD8GEZ8h",
    "outputId": "26114055-8e9e-452e-8ee4-2cf99aaee221"
   },
   "outputs": [
    {
     "name": "stdout",
     "output_type": "stream",
     "text": [
      "Associate Analyst\n"
     ]
    }
   ],
   "source": [
    "job_experience = 1\n",
    "sql_experience = 0\n",
    "\n",
    "if job_experience < 2:\n",
    "  if sql_experience == 0:\n",
    "    job_title= 'Associate Analyst'\n",
    "  else:\n",
    "    job_title = 'Junior Analyst'\n",
    "\n",
    "elif job_experience <=5:\n",
    "  if sql_experience == 0:\n",
    "    job_title= 'Associate Analyst'\n",
    "  elif sql_experience == 1:\n",
    "    job_title = 'Intermediate Analyst'\n",
    "  else:\n",
    "    job_title = 'Senior Analyst'\n",
    "\n",
    "else:\n",
    "  if sql_experience <=2:\n",
    "    job_title = 'Data Analiyst'\n",
    "  else:\n",
    "    job_title = 'Lead Analyst'\n",
    "\n",
    "print(job_title)"
   ]
  },
  {
   "cell_type": "code",
   "execution_count": 4,
   "metadata": {
    "id": "V4FFu11eJ3Od"
   },
   "outputs": [
    {
     "name": "stdout",
     "output_type": "stream",
     "text": [
      "Senior Analyst\n"
     ]
    }
   ],
   "source": [
    "job_experience = 4\n",
    "sql_experience = 2\n",
    "\n",
    "if job_experience < 2:\n",
    "    if sql_experience == 0:\n",
    "        job_title = \"Associate Analyst\"\n",
    "    else:\n",
    "        job_title = \"Junior Analyst\"\n",
    "\n",
    "elif job_experience > 5:\n",
    "    if sql_experience >= 3:\n",
    "        job_title = \"Lead Analyst\"\n",
    "    else:\n",
    "        job_title = \"Data Analyst\"\n",
    "\n",
    "else:  # 2 to 5 years of experience\n",
    "    if sql_experience == 0:\n",
    "        job_title = \"Associate Analyst\"\n",
    "    elif sql_experience == 1:\n",
    "        job_title = \"Intermediate Analyst\"\n",
    "    else:\n",
    "        job_title = \"Senior Analyst\"\n",
    "\n",
    "print(job_title)"
   ]
  }
 ],
 "metadata": {
  "colab": {
   "authorship_tag": "ABX9TyNbM8n2wBuW+cx42scm6ETf",
   "provenance": []
  },
  "kernelspec": {
   "display_name": "python_course",
   "language": "python",
   "name": "python3"
  },
  "language_info": {
   "codemirror_mode": {
    "name": "ipython",
    "version": 3
   },
   "file_extension": ".py",
   "mimetype": "text/x-python",
   "name": "python",
   "nbconvert_exporter": "python",
   "pygments_lexer": "ipython3",
   "version": "3.13.5"
  }
 },
 "nbformat": 4,
 "nbformat_minor": 0
}
