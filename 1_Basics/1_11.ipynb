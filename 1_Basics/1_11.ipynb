{
 "cells": [
  {
   "cell_type": "markdown",
   "metadata": {
    "id": "keDSldrbQ7JS"
   },
   "source": [
    "# 1_11_1\n",
    "Access the second job role from the tuple job_roles and print it. The job_roles variable is set to ('Data Scientist', 'Data Analyst', 'Machine Learning Engineer')."
   ]
  },
  {
   "cell_type": "code",
   "execution_count": 1,
   "metadata": {
    "colab": {
     "base_uri": "https://localhost:8080/"
    },
    "executionInfo": {
     "elapsed": 5,
     "status": "ok",
     "timestamp": 1755773719960,
     "user": {
      "displayName": "Nicolas Büttner",
      "userId": "04511731173288379148"
     },
     "user_tz": -120
    },
    "id": "yNouJLrUQ5H8",
    "outputId": "897c4e87-224f-42d7-84f7-68a39f07a753"
   },
   "outputs": [
    {
     "name": "stdout",
     "output_type": "stream",
     "text": [
      "Data Analyst\n"
     ]
    }
   ],
   "source": [
    "job_roles = ('Data Scientist', 'Data Analyst', 'Machine Learning Engineer')\n",
    "print(job_roles[1])"
   ]
  },
  {
   "cell_type": "markdown",
   "metadata": {
    "id": "0cJZxlPORReP"
   },
   "source": [
    "# 1_11_2\n",
    "Create a new tuple extended_job_roles by adding the job role 'AI Specialist' to the existing tuple job_roles. Print the new tuple. The job_roles is set to job_roles = ('Data Scientist', 'Data Analyst', 'Machine Learning Engineer').\n"
   ]
  },
  {
   "cell_type": "code",
   "execution_count": 2,
   "metadata": {
    "colab": {
     "base_uri": "https://localhost:8080/"
    },
    "executionInfo": {
     "elapsed": 7,
     "status": "ok",
     "timestamp": 1755773996898,
     "user": {
      "displayName": "Nicolas Büttner",
      "userId": "04511731173288379148"
     },
     "user_tz": -120
    },
    "id": "0MM0xNE9RGM1",
    "outputId": "3f899c84-7129-4b22-ed2c-16b9892b63e5"
   },
   "outputs": [
    {
     "name": "stdout",
     "output_type": "stream",
     "text": [
      "('Data Scientist', 'Data Analyst', 'Machine Learning Engineer', 'AI Specialist')\n"
     ]
    }
   ],
   "source": [
    "job_roles = ('Data Scientist', 'Data Analyst', 'Machine Learning Engineer')\n",
    "extended_job_roles = job_roles + ('AI Specialist',)\n",
    "print(extended_job_roles)"
   ]
  },
  {
   "cell_type": "markdown",
   "metadata": {
    "id": "OfAA3nYDSW_z"
   },
   "source": [
    "# 1_11_3\n",
    "Remove the job role 'Data Analyst' from the tuple job_roles by converting it to a list and then back to a tuple. Print the updated tuple. The tuple job_roles is set to ('Data Scientist', 'Data Analyst', 'Machine Learning Engineer')."
   ]
  },
  {
   "cell_type": "code",
   "execution_count": 3,
   "metadata": {
    "colab": {
     "base_uri": "https://localhost:8080/"
    },
    "executionInfo": {
     "elapsed": 6,
     "status": "ok",
     "timestamp": 1755774164433,
     "user": {
      "displayName": "Nicolas Büttner",
      "userId": "04511731173288379148"
     },
     "user_tz": -120
    },
    "id": "nRclt1s-SBP5",
    "outputId": "f3b81a82-0265-4450-c8c2-8972edc7d6fc"
   },
   "outputs": [
    {
     "name": "stdout",
     "output_type": "stream",
     "text": [
      "('Data Scientist', 'Machine Learning Engineer')\n"
     ]
    }
   ],
   "source": [
    "job_roles = ('Data Scientist', 'Data Analyst', 'Machine Learning Engineer')\n",
    "job_roles_list = list(job_roles)\n",
    "job_roles_list.remove('Data Analyst')\n",
    "updated_job_roles = tuple(job_roles_list)\n",
    "print(updated_job_roles)"
   ]
  },
  {
   "cell_type": "markdown",
   "metadata": {
    "id": "E2Mgb8lAS9Kt"
   },
   "source": [
    "# 1_11_4\n",
    "Unpack the tuple job_postings into three variables data_scientist_postings, data_analyst_postings, and ml_engineer_postings. Print each variable. The variable job_postings is set to (120, 80, 50)."
   ]
  },
  {
   "cell_type": "code",
   "execution_count": 1,
   "metadata": {
    "colab": {
     "base_uri": "https://localhost:8080/"
    },
    "executionInfo": {
     "elapsed": 6,
     "status": "ok",
     "timestamp": 1755774986217,
     "user": {
      "displayName": "Nicolas Büttner",
      "userId": "04511731173288379148"
     },
     "user_tz": -120
    },
    "id": "erNZ9b6NSwro",
    "outputId": "3e8cf87e-6726-4b77-86c4-165587d7f905"
   },
   "outputs": [
    {
     "name": "stdout",
     "output_type": "stream",
     "text": [
      "120\n",
      "80\n",
      "50\n"
     ]
    }
   ],
   "source": [
    "job_postings = (120, 80, 50)\n",
    "data_scientist_postings, data_analyst_postings, ml_engineer_postings = job_postings\n",
    "print(data_scientist_postings)\n",
    "print(data_analyst_postings)\n",
    "print(ml_engineer_postings)"
   ]
  },
  {
   "cell_type": "markdown",
   "metadata": {
    "id": "5Z3sDKkHWHVf"
   },
   "source": [
    "# 1_11_5\n",
    "Extract and print the number of postings for 'Machine Learning Engineer' from the nested tuple job_details. The job_details is set to (('Data Scientist', 120), ('Data Analyst', 80), ('Machine Learning Engineer', 50))."
   ]
  },
  {
   "cell_type": "code",
   "execution_count": null,
   "metadata": {
    "colab": {
     "base_uri": "https://localhost:8080/"
    },
    "executionInfo": {
     "elapsed": 9,
     "status": "ok",
     "timestamp": 1755775149236,
     "user": {
      "displayName": "Nicolas Büttner",
      "userId": "04511731173288379148"
     },
     "user_tz": -120
    },
    "id": "S22J7G04TLid",
    "outputId": "aac584bd-12e6-4315-e593-02439a236cde"
   },
   "outputs": [
    {
     "name": "stdout",
     "output_type": "stream",
     "text": [
      "50\n"
     ]
    }
   ],
   "source": [
    "job_details = (('Data Scientist', 120), ('Data Analyst', 80), ('Machine Learning Engineer', 50))\n",
    "print(job_details[2][1])"
   ]
  }
 ],
 "metadata": {
  "colab": {
   "authorship_tag": "ABX9TyP5aXW2X1PJnwxjF70R1G6T",
   "provenance": []
  },
  "kernelspec": {
   "display_name": "python_course",
   "language": "python",
   "name": "python3"
  },
  "language_info": {
   "codemirror_mode": {
    "name": "ipython",
    "version": 3
   },
   "file_extension": ".py",
   "mimetype": "text/x-python",
   "name": "python",
   "nbconvert_exporter": "python",
   "pygments_lexer": "ipython3",
   "version": "3.13.5"
  }
 },
 "nbformat": 4,
 "nbformat_minor": 0
}
