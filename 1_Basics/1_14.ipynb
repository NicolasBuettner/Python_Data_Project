{
 "cells": [
  {
   "cell_type": "markdown",
   "metadata": {
    "id": "Rm1-MKEJ5din"
   },
   "source": [
    "# 1_14_1\n",
    "Create a list comprehension that converts a list of salaries from USD to EUR using a conversion rate of 0.85. With the list of salaries being: salaries_usd = [100000, 120000, 80000, 90000]."
   ]
  },
  {
   "cell_type": "code",
   "execution_count": 1,
   "metadata": {
    "colab": {
     "base_uri": "https://localhost:8080/"
    },
    "executionInfo": {
     "elapsed": 6,
     "status": "ok",
     "timestamp": 1756119955013,
     "user": {
      "displayName": "Nicolas Büttner",
      "userId": "04511731173288379148"
     },
     "user_tz": -120
    },
    "id": "ll6bKeE_5Zyy",
    "outputId": "334fd444-1880-4715-9954-205e677d2afb"
   },
   "outputs": [
    {
     "name": "stdout",
     "output_type": "stream",
     "text": [
      "[85000.0, 102000.0, 68000.0, 76500.0]\n"
     ]
    }
   ],
   "source": [
    "salaries_usd = [100000, 120000, 80000, 90000]\n",
    "\n",
    "salaries_eur = [salary * 0.85 for salary in salaries_usd]\n",
    "\n",
    "print(salaries_eur)"
   ]
  },
  {
   "cell_type": "markdown",
   "metadata": {
    "id": "-oeXp9zj6EGK"
   },
   "source": [
    "# 1_14_2\n",
    "Create a list of data science job titles that require more than 2 years of experience from the given dictionary. With job_experience set to {'Data Scientist': 3, 'Data Analyst': 1, 'Machine Learning Specialist': 4, 'Data Engineer': 2}."
   ]
  },
  {
   "cell_type": "code",
   "execution_count": null,
   "metadata": {
    "colab": {
     "base_uri": "https://localhost:8080/"
    },
    "executionInfo": {
     "elapsed": 7,
     "status": "ok",
     "timestamp": 1756120336636,
     "user": {
      "displayName": "Nicolas Büttner",
      "userId": "04511731173288379148"
     },
     "user_tz": -120
    },
    "id": "MRPKQInL5zWq",
    "outputId": "784c2a0b-3e46-4342-b862-e0454ae13fd5"
   },
   "outputs": [
    {
     "name": "stdout",
     "output_type": "stream",
     "text": [
      "['Data Scientist', 'Machine Learning Specialist']\n"
     ]
    }
   ],
   "source": [
    "job_experience = {'Data Scientist': 3, 'Data Analyst': 1, 'Machine Learning Specialist': 4, 'Data Engineer': 2}\n",
    "\n",
    "experienced_jobs = [job for job, exp in job_experience.items() if exp > 2]\n",
    "print(experienced_jobs)"
   ]
  },
  {
   "cell_type": "markdown",
   "metadata": {
    "id": "Z18pe0hv7y8y"
   },
   "source": [
    "# 1_14_3\n",
    "Create a list comprehension that extracts job titles with salaries greater than 90,000 from a given list of dictionaries containing job titles and salaries. The dictionary is job_salary_dicts named and it is set to [{'job_title': 'Data Scientist', 'salary': 100000}, {'job_title': 'Data Analyst', 'salary': 120000}, {'job_title': 'Data Engineer', 'salary': 80000}, {'job_title': 'Machine Learning Engineer', 'salary': 90000}]."
   ]
  },
  {
   "cell_type": "code",
   "execution_count": null,
   "metadata": {
    "colab": {
     "base_uri": "https://localhost:8080/"
    },
    "executionInfo": {
     "elapsed": 4,
     "status": "ok",
     "timestamp": 1756121623677,
     "user": {
      "displayName": "Nicolas Büttner",
      "userId": "04511731173288379148"
     },
     "user_tz": -120
    },
    "id": "HiNM9mQw6lZG",
    "outputId": "33cc66e9-c65c-484e-fdf1-61a0ed4399ba"
   },
   "outputs": [
    {
     "name": "stdout",
     "output_type": "stream",
     "text": [
      "['Data Scientist', 'Data Analyst']\n"
     ]
    }
   ],
   "source": [
    "job_salary_dicts = [\n",
    "    {'job_title': 'Data Scientist', 'salary': 100000},\n",
    "    {'job_title': 'Data Analyst', 'salary': 120000},\n",
    "    {'job_title': 'Data Engineer', 'salary': 80000},\n",
    "    {'job_title': 'Machine Learning Engineer', 'salary': 90000}\n",
    "]\n",
    "\n",
    "high_salary_jobs = [job['job_title'] for job in job_salary_dicts if job['salary'] > 90000]\n",
    "print(high_salary_jobs)"
   ]
  }
 ],
 "metadata": {
  "colab": {
   "authorship_tag": "ABX9TyMhC6W8Mu/DRLcEIIi+xS2s",
   "provenance": []
  },
  "kernelspec": {
   "display_name": "python_course",
   "language": "python",
   "name": "python3"
  },
  "language_info": {
   "codemirror_mode": {
    "name": "ipython",
    "version": 3
   },
   "file_extension": ".py",
   "mimetype": "text/x-python",
   "name": "python",
   "nbconvert_exporter": "python",
   "pygments_lexer": "ipython3",
   "version": "3.13.5"
  }
 },
 "nbformat": 4,
 "nbformat_minor": 0
}
