{
 "cells": [
  {
   "cell_type": "markdown",
   "metadata": {
    "id": "bD-QzFM-fz0M"
   },
   "source": [
    "# 1_26_1\n",
    "Calculate the mean of the salary_year_avg column and display the result."
   ]
  },
  {
   "cell_type": "code",
   "execution_count": 1,
   "metadata": {
    "colab": {
     "base_uri": "https://localhost:8080/"
    },
    "executionInfo": {
     "elapsed": 1964,
     "status": "ok",
     "timestamp": 1756734059662,
     "user": {
      "displayName": "Nicolas Büttner",
      "userId": "04511731173288379148"
     },
     "user_tz": -120
    },
    "id": "l29pe4ayfx8l",
    "outputId": "a6f49654-02a4-4fe1-d7be-7ee72a9d794f"
   },
   "outputs": [
    {
     "name": "stdout",
     "output_type": "stream",
     "text": [
      "123286.27407182401\n"
     ]
    }
   ],
   "source": [
    "import pandas as pd\n",
    "from datasets import load_dataset\n",
    "\n",
    "dataset = load_dataset('lukebarousse/data_jobs')\n",
    "df = dataset['train'].to_pandas()\n",
    "\n",
    "mean_salary = df['salary_year_avg'].mean()\n",
    "print(mean_salary)"
   ]
  },
  {
   "cell_type": "markdown",
   "metadata": {
    "id": "NW9qyF23gt4A"
   },
   "source": [
    "# 1_26_2\n",
    "Calculate the median of the salary_year_avg column and display the result."
   ]
  },
  {
   "cell_type": "code",
   "execution_count": 2,
   "metadata": {
    "colab": {
     "base_uri": "https://localhost:8080/"
    },
    "executionInfo": {
     "elapsed": 1948,
     "status": "ok",
     "timestamp": 1756734129396,
     "user": {
      "displayName": "Nicolas Büttner",
      "userId": "04511731173288379148"
     },
     "user_tz": -120
    },
    "id": "P2vN2z-PgKu3",
    "outputId": "e579fc1c-b412-43c2-f67f-7377ec740127"
   },
   "outputs": [
    {
     "name": "stdout",
     "output_type": "stream",
     "text": [
      "115000.0\n"
     ]
    }
   ],
   "source": [
    "import pandas as pd\n",
    "from datasets import load_dataset\n",
    "\n",
    "dataset = load_dataset('lukebarousse/data_jobs')\n",
    "df = dataset['train'].to_pandas()\n",
    "\n",
    "median_salary = df['salary_year_avg'].median()\n",
    "print(median_salary)"
   ]
  },
  {
   "cell_type": "markdown",
   "metadata": {
    "id": "gNZqZN8yhEZF"
   },
   "source": [
    "# 1_26_3\n",
    "Group the DataFrame by job_title_short and calculate the average salary_hour_avg for each job title. Display the result."
   ]
  },
  {
   "cell_type": "code",
   "execution_count": 3,
   "metadata": {
    "colab": {
     "base_uri": "https://localhost:8080/",
     "height": 429
    },
    "executionInfo": {
     "elapsed": 2049,
     "status": "ok",
     "timestamp": 1756734371674,
     "user": {
      "displayName": "Nicolas Büttner",
      "userId": "04511731173288379148"
     },
     "user_tz": -120
    },
    "id": "ulpRMxneg3x_",
    "outputId": "ca38b7f6-601b-45cc-ffcb-4d1387642e72"
   },
   "outputs": [
    {
     "data": {
      "text/plain": [
       "job_title_short\n",
       "Business Analyst             42.723415\n",
       "Cloud Engineer               45.560715\n",
       "Data Analyst                 38.106918\n",
       "Data Engineer                57.196998\n",
       "Data Scientist               49.361403\n",
       "Machine Learning Engineer    48.477935\n",
       "Senior Data Analyst          47.661218\n",
       "Senior Data Engineer         62.848496\n",
       "Senior Data Scientist        54.105631\n",
       "Software Engineer            46.452019\n",
       "Name: salary_hour_avg, dtype: float64"
      ]
     },
     "execution_count": 3,
     "metadata": {},
     "output_type": "execute_result"
    }
   ],
   "source": [
    "import pandas as pd\n",
    "from datasets import load_dataset\n",
    "\n",
    "dataset = load_dataset('lukebarousse/data_jobs')\n",
    "df = dataset['train'].to_pandas()\n",
    "\n",
    "avg_hourly_by_job = df.groupby('job_title_short')['salary_hour_avg'].mean()\n",
    "avg_hourly_by_job"
   ]
  },
  {
   "cell_type": "markdown",
   "metadata": {
    "id": "KfI7ICd_h539"
   },
   "source": [
    "# 1_26_4\n",
    "Find the job title with the lowest average hourly salary and display the job title and the salary."
   ]
  },
  {
   "cell_type": "code",
   "execution_count": null,
   "metadata": {
    "colab": {
     "base_uri": "https://localhost:8080/",
     "height": 147
    },
    "executionInfo": {
     "elapsed": 2157,
     "status": "ok",
     "timestamp": 1756735096878,
     "user": {
      "displayName": "Nicolas Büttner",
      "userId": "04511731173288379148"
     },
     "user_tz": -120
    },
    "id": "24-mSHm1hhxB",
    "outputId": "1465633b-0158-4c31-be6d-3287a2b8f5ee"
   },
   "outputs": [
    {
     "data": {
      "text/plain": [
       "job_title_short    Data Scientist\n",
       "salary_hour_avg               8.0\n",
       "Name: 88185, dtype: object"
      ]
     },
     "execution_count": 4,
     "metadata": {},
     "output_type": "execute_result"
    }
   ],
   "source": [
    "import pandas as pd\n",
    "from datasets import load_dataset\n",
    "\n",
    "dataset = load_dataset('lukebarousse/data_jobs')\n",
    "df = dataset['train'].to_pandas()\n",
    "\n",
    "min_hourly_index = df['salary_hour_avg'].idxmin()\n",
    "min_hourly_job = df.iloc[min_hourly_index][['job_title_short', 'salary_hour_avg']]\n",
    "min_hourly_job"
   ]
  },
  {
   "cell_type": "markdown",
   "metadata": {
    "id": "L9Lsnw85m4WL"
   },
   "source": [
    "# 1_26_5\n",
    "Group the DataFrame by job_country and calculate the total number of job postings for each country. Display the result."
   ]
  },
  {
   "cell_type": "code",
   "execution_count": 6,
   "metadata": {
    "colab": {
     "base_uri": "https://localhost:8080/",
     "height": 489
    },
    "executionInfo": {
     "elapsed": 2136,
     "status": "ok",
     "timestamp": 1756736329996,
     "user": {
      "displayName": "Nicolas Büttner",
      "userId": "04511731173288379148"
     },
     "user_tz": -120
    },
    "id": "p7qlmms2nIJi",
    "outputId": "3dcb0fc7-6f5e-499e-b3ad-4b2010d23bc6"
   },
   "outputs": [
    {
     "data": {
      "text/plain": [
       "job_country\n",
       "Afghanistan      16\n",
       "Albania         119\n",
       "Algeria         111\n",
       "Angola           11\n",
       "Argentina      8736\n",
       "               ... \n",
       "Venezuela        69\n",
       "Vietnam        2414\n",
       "Yemen            10\n",
       "Zambia          104\n",
       "Zimbabwe         81\n",
       "Length: 160, dtype: int64"
      ]
     },
     "execution_count": 6,
     "metadata": {},
     "output_type": "execute_result"
    }
   ],
   "source": [
    "import pandas as pd\n",
    "from datasets import load_dataset\n",
    "\n",
    "dataset = load_dataset('lukebarousse/data_jobs')\n",
    "df = dataset['train'].to_pandas()\n",
    "\n",
    "job_count_by_country = df.groupby('job_country').size()\n",
    "job_count_by_country"
   ]
  }
 ],
 "metadata": {
  "colab": {
   "authorship_tag": "ABX9TyOCukSwaaYxRlijMS9K446Z",
   "provenance": []
  },
  "kernelspec": {
   "display_name": "python_course",
   "language": "python",
   "name": "python3"
  },
  "language_info": {
   "codemirror_mode": {
    "name": "ipython",
    "version": 3
   },
   "file_extension": ".py",
   "mimetype": "text/x-python",
   "name": "python",
   "nbconvert_exporter": "python",
   "pygments_lexer": "ipython3",
   "version": "3.13.5"
  }
 },
 "nbformat": 4,
 "nbformat_minor": 0
}
