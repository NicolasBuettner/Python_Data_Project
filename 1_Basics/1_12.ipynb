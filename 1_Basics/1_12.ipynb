{
 "cells": [
  {
   "cell_type": "markdown",
   "metadata": {
    "id": "5ShXu6Ip1fH2"
   },
   "source": [
    "# 1_12_1\n",
    "Check if the job_title1 of 'Data Engineer' is not the same object as the job_title2 of 'Data Scientist' and print the result.\n"
   ]
  },
  {
   "cell_type": "code",
   "execution_count": 1,
   "metadata": {
    "colab": {
     "base_uri": "https://localhost:8080/"
    },
    "executionInfo": {
     "elapsed": 9,
     "status": "ok",
     "timestamp": 1755783328842,
     "user": {
      "displayName": "Nicolas Büttner",
      "userId": "04511731173288379148"
     },
     "user_tz": -120
    },
    "id": "4v5yVACU1cUk",
    "outputId": "e6ac2137-ed64-4576-a77c-574818994aa3"
   },
   "outputs": [
    {
     "name": "stdout",
     "output_type": "stream",
     "text": [
      "True\n"
     ]
    }
   ],
   "source": [
    "job_title1 = 'Data Engineer'\n",
    "job_title2 = 'Data Scientist'\n",
    "\n",
    "print(job_title1 is not job_title2)"
   ]
  },
  {
   "cell_type": "markdown",
   "metadata": {
    "id": "KTNDH1dr2IBr"
   },
   "source": [
    "# 1_12_2\n",
    "Determine if the job location 'New York' is in the list of job_locations ['New York', 'San Francisco', 'Austin'] and print the result."
   ]
  },
  {
   "cell_type": "code",
   "execution_count": 2,
   "metadata": {
    "colab": {
     "base_uri": "https://localhost:8080/"
    },
    "executionInfo": {
     "elapsed": 6,
     "status": "ok",
     "timestamp": 1755783446652,
     "user": {
      "displayName": "Nicolas Büttner",
      "userId": "04511731173288379148"
     },
     "user_tz": -120
    },
    "id": "shT1_luO1xc3",
    "outputId": "81175e99-fecb-4f2b-e63a-548d17ea358e"
   },
   "outputs": [
    {
     "name": "stdout",
     "output_type": "stream",
     "text": [
      "True\n"
     ]
    }
   ],
   "source": [
    "job_locations = ['New York', 'San Francisco', 'Austin']\n",
    "print('New York' in job_locations)"
   ]
  },
  {
   "cell_type": "markdown",
   "metadata": {
    "id": "2TjcTX9r2dBa"
   },
   "source": [
    "# 1_12_3\n",
    "Check if the job_title 'Data Analyst' is not in the job_description string 'Data Scientist at Tech Corp' and print the result."
   ]
  },
  {
   "cell_type": "code",
   "execution_count": 3,
   "metadata": {
    "colab": {
     "base_uri": "https://localhost:8080/"
    },
    "executionInfo": {
     "elapsed": 6,
     "status": "ok",
     "timestamp": 1755783566200,
     "user": {
      "displayName": "Nicolas Büttner",
      "userId": "04511731173288379148"
     },
     "user_tz": -120
    },
    "id": "d1orpoar2RQb",
    "outputId": "19274bf5-5bff-4f3c-edc3-8dc312aac915"
   },
   "outputs": [
    {
     "name": "stdout",
     "output_type": "stream",
     "text": [
      "True\n"
     ]
    }
   ],
   "source": [
    "job_title = 'Data Analyst'\n",
    "job_description = 'Data Scientist at Tech Corp'\n",
    "print(job_title not in job_description)"
   ]
  },
  {
   "cell_type": "markdown",
   "metadata": {
    "id": "N6piyQYM26Wb"
   },
   "source": [
    "# 1_12_4\n",
    "Check if both 'Data Scientist' and 'Machine Learning Engineer' are in the list of job titles ['Data Scientist', 'Data Analyst', 'Machine Learning Engineer'] and print the result."
   ]
  },
  {
   "cell_type": "code",
   "execution_count": 4,
   "metadata": {
    "colab": {
     "base_uri": "https://localhost:8080/"
    },
    "executionInfo": {
     "elapsed": 19,
     "status": "ok",
     "timestamp": 1755783884215,
     "user": {
      "displayName": "Nicolas Büttner",
      "userId": "04511731173288379148"
     },
     "user_tz": -120
    },
    "id": "F4HBUQ3T2piw",
    "outputId": "27fe31b3-a58f-444d-a234-a5471eb66f5a"
   },
   "outputs": [
    {
     "name": "stdout",
     "output_type": "stream",
     "text": [
      "True\n"
     ]
    }
   ],
   "source": [
    "job_titles = ['Data Scientist', 'Data Analyst', 'Machine Learning Engineer']\n",
    "print('Data Scientist' in job_titles and 'Machine Learning Engineer' in job_titles)"
   ]
  },
  {
   "cell_type": "markdown",
   "metadata": {
    "id": "tyCbNvq64ZPb"
   },
   "source": [
    "# 1_12_5\n",
    "Perform a bitwise OR operation on the binary representations of the salaries 100000 and 50000 and print the result. Named salary1 and salary2 respectively."
   ]
  },
  {
   "cell_type": "code",
   "execution_count": 5,
   "metadata": {
    "colab": {
     "base_uri": "https://localhost:8080/"
    },
    "executionInfo": {
     "elapsed": 8,
     "status": "ok",
     "timestamp": 1755784208718,
     "user": {
      "displayName": "Nicolas Büttner",
      "userId": "04511731173288379148"
     },
     "user_tz": -120
    },
    "id": "Xotcx1qN3Ezq",
    "outputId": "0642b3ce-9c45-43ab-d9e4-398ccbe44f37"
   },
   "outputs": [
    {
     "name": "stdout",
     "output_type": "stream",
     "text": [
      "116720\n"
     ]
    }
   ],
   "source": [
    "salary1 = 100000\n",
    "salary2 = 50000\n",
    "result = salary1 | salary2\n",
    "print(result)"
   ]
  }
 ],
 "metadata": {
  "colab": {
   "authorship_tag": "ABX9TyNSiHbd6boYl6nfm06LxglB",
   "provenance": []
  },
  "kernelspec": {
   "display_name": "python_course",
   "language": "python",
   "name": "python3"
  },
  "language_info": {
   "codemirror_mode": {
    "name": "ipython",
    "version": 3
   },
   "file_extension": ".py",
   "mimetype": "text/x-python",
   "name": "python",
   "nbconvert_exporter": "python",
   "pygments_lexer": "ipython3",
   "version": "3.13.5"
  }
 },
 "nbformat": 4,
 "nbformat_minor": 0
}
