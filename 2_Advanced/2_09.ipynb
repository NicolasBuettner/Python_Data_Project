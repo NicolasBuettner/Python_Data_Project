{
 "cells": [
  {
   "cell_type": "markdown",
   "id": "0b319d90",
   "metadata": {},
   "source": [
    "# 2.9: Set-up"
   ]
  },
  {
   "cell_type": "code",
   "execution_count": 1,
   "id": "63dd9b07",
   "metadata": {},
   "outputs": [],
   "source": [
    "# Importing Libraries\n",
    "import pandas as pd\n",
    "from datasets import load_dataset\n",
    "import matplotlib.pyplot as plt\n",
    "\n",
    "# Loading Data\n",
    "dataset = load_dataset('lukebarousse/data_jobs')\n",
    "df = dataset['train'].to_pandas()\n",
    "\n",
    "# Data Cleanup\n",
    "df['job_posted_date'] = pd.to_datetime(df['job_posted_date'])"
   ]
  },
  {
   "cell_type": "markdown",
   "id": "a0ee6b4c",
   "metadata": {},
   "source": [
    "# 2.9.1\n",
    "Export the DataFrame to a CSV file named data_jobs_export.csv without including the index. Inspect the contents of the CSV exported."
   ]
  },
  {
   "cell_type": "code",
   "execution_count": null,
   "id": "a7e73425",
   "metadata": {},
   "outputs": [],
   "source": [
    "# df.to_csv('data_jobs_export.csv', index=False)\n",
    "# WARNING: LARGE FILE SIZE"
   ]
  },
  {
   "cell_type": "markdown",
   "id": "22722e40",
   "metadata": {},
   "source": [
    "# 2.9.2\n",
    "- Filter the DataFrame to include only job postings with 'Data Scientist' in the job_title_short column.\n",
    "\n",
    "- Export the filtered DataFrame to a CSV file named data_scientist_jobs.csv without including the index.\n",
    "\n",
    "- Inspect that the CSV has been exported with the correct filtered data."
   ]
  },
  {
   "cell_type": "code",
   "execution_count": 8,
   "id": "5a5546fc",
   "metadata": {},
   "outputs": [],
   "source": [
    "df_filtered = df[df['job_title_short'] == 'Data Scientist']\n",
    "df_filtered.to_csv('C:/Users/nicol/Documents/Python_Data_Project/4_Files/data_scientist_jobs.csv', index=False)"
   ]
  },
  {
   "cell_type": "markdown",
   "id": "9167c5d7",
   "metadata": {},
   "source": [
    "# 2.9.3\n",
    "- Filter the DataFrame to include only job postings with 'New York, NY' in the job_location column.\n",
    "\n",
    "- Export the filtered DataFrame to an Excel file named new_york_jobs.xlsx without including the index.\n",
    "\n",
    "- Display the first 5 rows of the filtered DataFrame to confirm the export."
   ]
  },
  {
   "cell_type": "code",
   "execution_count": 9,
   "id": "b7edac26",
   "metadata": {},
   "outputs": [],
   "source": [
    "import openpyxl\n",
    "\n",
    "df_filtered = df[df['job_location'] == 'New York, NY']\n",
    "df_filtered.to_excel('C:/Users/nicol/Documents/Python_Data_Project/4_Files/new_york_jobs.xlsx', index=False)"
   ]
  }
 ],
 "metadata": {
  "kernelspec": {
   "display_name": "python_course",
   "language": "python",
   "name": "python3"
  },
  "language_info": {
   "codemirror_mode": {
    "name": "ipython",
    "version": 3
   },
   "file_extension": ".py",
   "mimetype": "text/x-python",
   "name": "python",
   "nbconvert_exporter": "python",
   "pygments_lexer": "ipython3",
   "version": "3.13.5"
  }
 },
 "nbformat": 4,
 "nbformat_minor": 5
}
