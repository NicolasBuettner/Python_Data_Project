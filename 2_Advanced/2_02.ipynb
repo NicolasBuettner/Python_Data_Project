{
 "cells": [
  {
   "cell_type": "markdown",
   "id": "73452815",
   "metadata": {},
   "source": [
    "# 2.2: Set-up"
   ]
  },
  {
   "cell_type": "code",
   "execution_count": 2,
   "id": "a6dd4e5a",
   "metadata": {},
   "outputs": [],
   "source": [
    "# Importing Libraries\n",
    "import pandas as pd\n",
    "from datasets import load_dataset\n",
    "import matplotlib.pyplot as plt\n",
    "\n",
    "# Loading Data\n",
    "dataset = load_dataset('lukebarousse/data_jobs')\n",
    "df = dataset['train'].to_pandas()\n",
    "\n",
    "# Data Cleanup\n",
    "df['job_posted_date'] = pd.to_datetime(df['job_posted_date'])"
   ]
  },
  {
   "cell_type": "markdown",
   "id": "6a9e15e7",
   "metadata": {},
   "source": [
    "# 2.2.1\n",
    "Remove rows where the salary_year_avg column has missing values. Display the number of rows before and after removing."
   ]
  },
  {
   "cell_type": "code",
   "execution_count": 3,
   "id": "1fcfe525",
   "metadata": {},
   "outputs": [
    {
     "data": {
      "text/plain": [
       "(785741, 22003)"
      ]
     },
     "execution_count": 3,
     "metadata": {},
     "output_type": "execute_result"
    }
   ],
   "source": [
    "df_cleaned = df.dropna(subset=['salary_year_avg'])\n",
    "\n",
    "rows_before = len(df)\n",
    "rows_after = len(df_cleaned)\n",
    "\n",
    "rows_before, rows_after"
   ]
  },
  {
   "cell_type": "markdown",
   "id": "385f1791",
   "metadata": {},
   "source": [
    "# 2.2.2\n",
    "Remove duplicate rows from the DataFrame based on the job_location column. Display the number of rows before and after removing duplicates."
   ]
  },
  {
   "cell_type": "code",
   "execution_count": 4,
   "id": "7cda753a",
   "metadata": {},
   "outputs": [
    {
     "data": {
      "text/plain": [
       "(785741, 17218)"
      ]
     },
     "execution_count": 4,
     "metadata": {},
     "output_type": "execute_result"
    }
   ],
   "source": [
    "rows_before = df.shape[0]\n",
    "df_unique = df.drop_duplicates(subset=['job_location'])\n",
    "rows_after = df_unique.shape[0]\n",
    "rows_before, rows_after"
   ]
  },
  {
   "cell_type": "markdown",
   "id": "f58b650b",
   "metadata": {},
   "source": [
    "# 2.2.3\n",
    "Fill missing values in the salary_rate column with the string 'Unknown'. Display the first 10 rows of the salary_rate column before and after filling."
   ]
  },
  {
   "cell_type": "code",
   "execution_count": 5,
   "id": "3f8e8d1b",
   "metadata": {},
   "outputs": [
    {
     "data": {
      "text/plain": [
       "(0    None\n",
       " 1    None\n",
       " 2    None\n",
       " 3    None\n",
       " 4    None\n",
       " 5    None\n",
       " 6    None\n",
       " 7    None\n",
       " 8    None\n",
       " 9    None\n",
       " Name: salary_rate, dtype: object,\n",
       " 0    Unknown\n",
       " 1    Unknown\n",
       " 2    Unknown\n",
       " 3    Unknown\n",
       " 4    Unknown\n",
       " 5    Unknown\n",
       " 6    Unknown\n",
       " 7    Unknown\n",
       " 8    Unknown\n",
       " 9    Unknown\n",
       " Name: salary_rate, dtype: object)"
      ]
     },
     "execution_count": 5,
     "metadata": {},
     "output_type": "execute_result"
    }
   ],
   "source": [
    "salary_rate_before = df['salary_rate'].head(10)\n",
    "df_filled = df.fillna({'salary_rate': 'Unknown'})\n",
    "salary_rate_after = df_filled['salary_rate'].head(10)\n",
    "salary_rate_before, salary_rate_after"
   ]
  },
  {
   "cell_type": "code",
   "execution_count": null,
   "id": "608e98f5",
   "metadata": {},
   "outputs": [],
   "source": []
  }
 ],
 "metadata": {
  "kernelspec": {
   "display_name": "python_course",
   "language": "python",
   "name": "python3"
  },
  "language_info": {
   "codemirror_mode": {
    "name": "ipython",
    "version": 3
   },
   "file_extension": ".py",
   "mimetype": "text/x-python",
   "name": "python",
   "nbconvert_exporter": "python",
   "pygments_lexer": "ipython3",
   "version": "3.13.5"
  }
 },
 "nbformat": 4,
 "nbformat_minor": 5
}
