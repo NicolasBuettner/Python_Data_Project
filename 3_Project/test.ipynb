{
 "cells": [
  {
   "cell_type": "markdown",
   "id": "f9f2d7ac",
   "metadata": {},
   "source": [
    "this is a test"
   ]
  }
 ],
 "metadata": {
  "kernelspec": {
   "display_name": "python_course",
   "language": "python",
   "name": "python3"
  },
  "language_info": {
   "name": "python",
   "version": "3.13.5"
  }
 },
 "nbformat": 4,
 "nbformat_minor": 5
}
